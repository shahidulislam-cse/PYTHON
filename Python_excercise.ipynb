{
 "cells": [
  {
   "cell_type": "markdown",
   "id": "f0e1924a",
   "metadata": {},
   "source": [
    "# Introduction to Python"
   ]
  },
  {
   "cell_type": "markdown",
   "id": "1a51409a",
   "metadata": {},
   "source": [
    "### python Variable"
   ]
  },
  {
   "cell_type": "code",
   "execution_count": 1,
   "id": "a3968de9",
   "metadata": {},
   "outputs": [
    {
     "name": "stdout",
     "output_type": "stream",
     "text": [
      "1\n"
     ]
    }
   ],
   "source": [
    "x = 1\n",
    "print(x)"
   ]
  },
  {
   "cell_type": "code",
   "execution_count": 2,
   "id": "942a7ed3",
   "metadata": {},
   "outputs": [],
   "source": [
    "y = 2\n"
   ]
  },
  {
   "cell_type": "code",
   "execution_count": 3,
   "id": "f5413cd6",
   "metadata": {},
   "outputs": [
    {
     "name": "stdout",
     "output_type": "stream",
     "text": [
      "2\n"
     ]
    }
   ],
   "source": [
    "print(y)"
   ]
  },
  {
   "cell_type": "code",
   "execution_count": 5,
   "id": "ca4d9d4b",
   "metadata": {},
   "outputs": [],
   "source": [
    "a,b = (2,4)"
   ]
  },
  {
   "cell_type": "code",
   "execution_count": null,
   "id": "bc221b3c",
   "metadata": {},
   "outputs": [],
   "source": []
  },
  {
   "cell_type": "code",
   "execution_count": 6,
   "id": "56ce256a",
   "metadata": {},
   "outputs": [
    {
     "name": "stdout",
     "output_type": "stream",
     "text": [
      "2\n"
     ]
    }
   ],
   "source": [
    "print(a)"
   ]
  },
  {
   "cell_type": "code",
   "execution_count": 7,
   "id": "56bc3975",
   "metadata": {},
   "outputs": [
    {
     "name": "stdout",
     "output_type": "stream",
     "text": [
      "4\n"
     ]
    }
   ],
   "source": [
    "print(b)"
   ]
  },
  {
   "cell_type": "code",
   "execution_count": 9,
   "id": "268d121d",
   "metadata": {},
   "outputs": [],
   "source": [
    "w,z,p = (1,2,3)"
   ]
  },
  {
   "cell_type": "markdown",
   "id": "45f0fe97",
   "metadata": {},
   "source": [
    "### Types of data "
   ]
  },
  {
   "cell_type": "markdown",
   "id": "f013c77f",
   "metadata": {},
   "source": [
    "* integer\n",
    "* Boolean\n",
    "* String \n",
    "* Float\n",
    "* Object/Dictionary\n",
    "* Array/ List "
   ]
  },
  {
   "cell_type": "code",
   "execution_count": 19,
   "id": "a5b38254",
   "metadata": {},
   "outputs": [
    {
     "name": "stdout",
     "output_type": "stream",
     "text": [
      "2.1\n"
     ]
    }
   ],
   "source": [
    "y = 2.1\n",
    "print(y)"
   ]
  },
  {
   "cell_type": "code",
   "execution_count": 20,
   "id": "115f80ef",
   "metadata": {},
   "outputs": [
    {
     "data": {
      "text/plain": [
       "float"
      ]
     },
     "execution_count": 20,
     "metadata": {},
     "output_type": "execute_result"
    }
   ],
   "source": [
    "type(y)"
   ]
  },
  {
   "cell_type": "code",
   "execution_count": 22,
   "id": "b8e07920",
   "metadata": {},
   "outputs": [
    {
     "name": "stdout",
     "output_type": "stream",
     "text": [
      "Name\n"
     ]
    }
   ],
   "source": [
    "x = 'Name'\n",
    "print(x)"
   ]
  },
  {
   "cell_type": "code",
   "execution_count": 23,
   "id": "fa1ed872",
   "metadata": {},
   "outputs": [
    {
     "data": {
      "text/plain": [
       "str"
      ]
     },
     "execution_count": 23,
     "metadata": {},
     "output_type": "execute_result"
    }
   ],
   "source": [
    "type(x)"
   ]
  },
  {
   "cell_type": "code",
   "execution_count": 25,
   "id": "36490580",
   "metadata": {},
   "outputs": [
    {
     "name": "stdout",
     "output_type": "stream",
     "text": [
      "True\n"
     ]
    }
   ],
   "source": [
    "a = True   # Fales \n",
    "print(a)"
   ]
  },
  {
   "cell_type": "code",
   "execution_count": 26,
   "id": "65a48326",
   "metadata": {},
   "outputs": [
    {
     "data": {
      "text/plain": [
       "bool"
      ]
     },
     "execution_count": 26,
     "metadata": {},
     "output_type": "execute_result"
    }
   ],
   "source": [
    "type(a)"
   ]
  },
  {
   "cell_type": "code",
   "execution_count": 27,
   "id": "87ee8c4a",
   "metadata": {},
   "outputs": [],
   "source": [
    "a = 1\n",
    "b = 2.1"
   ]
  },
  {
   "cell_type": "code",
   "execution_count": 28,
   "id": "a806d111",
   "metadata": {},
   "outputs": [
    {
     "data": {
      "text/plain": [
       "3.1"
      ]
     },
     "execution_count": 28,
     "metadata": {},
     "output_type": "execute_result"
    }
   ],
   "source": [
    "a + b"
   ]
  },
  {
   "cell_type": "code",
   "execution_count": 29,
   "id": "e899d95d",
   "metadata": {},
   "outputs": [
    {
     "name": "stdout",
     "output_type": "stream",
     "text": [
      "1\n"
     ]
    }
   ],
   "source": [
    "print(a)"
   ]
  },
  {
   "cell_type": "code",
   "execution_count": 30,
   "id": "5bb0a0c9",
   "metadata": {},
   "outputs": [],
   "source": [
    "a = 5\n"
   ]
  },
  {
   "cell_type": "code",
   "execution_count": 31,
   "id": "1fea6e93",
   "metadata": {},
   "outputs": [
    {
     "name": "stdout",
     "output_type": "stream",
     "text": [
      "5\n"
     ]
    }
   ],
   "source": [
    "print(a)"
   ]
  },
  {
   "cell_type": "code",
   "execution_count": 32,
   "id": "87df2480",
   "metadata": {},
   "outputs": [
    {
     "data": {
      "text/plain": [
       "10"
      ]
     },
     "execution_count": 32,
     "metadata": {},
     "output_type": "execute_result"
    }
   ],
   "source": [
    "a+5"
   ]
  },
  {
   "cell_type": "code",
   "execution_count": 33,
   "id": "8d8ed6b3",
   "metadata": {},
   "outputs": [
    {
     "data": {
      "text/plain": [
       "2.380952380952381"
      ]
     },
     "execution_count": 33,
     "metadata": {},
     "output_type": "execute_result"
    }
   ],
   "source": [
    "a/b"
   ]
  },
  {
   "cell_type": "code",
   "execution_count": 35,
   "id": "c29e9561",
   "metadata": {},
   "outputs": [
    {
     "data": {
      "text/plain": [
       "4"
      ]
     },
     "execution_count": 35,
     "metadata": {},
     "output_type": "execute_result"
    }
   ],
   "source": [
    "int(14/3)"
   ]
  },
  {
   "cell_type": "code",
   "execution_count": 36,
   "id": "cfbb773a",
   "metadata": {},
   "outputs": [
    {
     "data": {
      "text/plain": [
       "int"
      ]
     },
     "execution_count": 36,
     "metadata": {},
     "output_type": "execute_result"
    }
   ],
   "source": [
    "fo = 3\n",
    "type(fo)"
   ]
  },
  {
   "cell_type": "code",
   "execution_count": 40,
   "id": "3dd0785a",
   "metadata": {},
   "outputs": [],
   "source": [
    "fo = float(fo)"
   ]
  },
  {
   "cell_type": "code",
   "execution_count": 41,
   "id": "c5b4be0a",
   "metadata": {},
   "outputs": [
    {
     "data": {
      "text/plain": [
       "float"
      ]
     },
     "execution_count": 41,
     "metadata": {},
     "output_type": "execute_result"
    }
   ],
   "source": [
    "type(fo)"
   ]
  },
  {
   "cell_type": "code",
   "execution_count": 43,
   "id": "78759a91",
   "metadata": {},
   "outputs": [],
   "source": [
    "# 5**2"
   ]
  },
  {
   "cell_type": "markdown",
   "id": "bca69acd",
   "metadata": {},
   "source": [
    "### Comparison Operator"
   ]
  },
  {
   "cell_type": "code",
   "execution_count": 47,
   "id": "f5787bc1",
   "metadata": {},
   "outputs": [
    {
     "data": {
      "text/plain": [
       "True"
      ]
     },
     "execution_count": 47,
     "metadata": {},
     "output_type": "execute_result"
    }
   ],
   "source": [
    "10 == 20/2"
   ]
  },
  {
   "cell_type": "code",
   "execution_count": 50,
   "id": "4ff78002",
   "metadata": {},
   "outputs": [
    {
     "data": {
      "text/plain": [
       "False"
      ]
     },
     "execution_count": 50,
     "metadata": {},
     "output_type": "execute_result"
    }
   ],
   "source": [
    "10 != 10"
   ]
  },
  {
   "cell_type": "code",
   "execution_count": 54,
   "id": "85e0d1c7",
   "metadata": {},
   "outputs": [
    {
     "data": {
      "text/plain": [
       "False"
      ]
     },
     "execution_count": 54,
     "metadata": {},
     "output_type": "execute_result"
    }
   ],
   "source": [
    "10 > 10"
   ]
  },
  {
   "cell_type": "code",
   "execution_count": null,
   "id": "913f8782",
   "metadata": {},
   "outputs": [],
   "source": [
    "> , < , >= , <= , != "
   ]
  },
  {
   "cell_type": "code",
   "execution_count": 57,
   "id": "402a9615",
   "metadata": {},
   "outputs": [
    {
     "name": "stderr",
     "output_type": "stream",
     "text": [
      "<>:1: SyntaxWarning: \"is\" with a literal. Did you mean \"==\"?\n",
      "<>:1: SyntaxWarning: \"is\" with a literal. Did you mean \"==\"?\n",
      "C:\\Users\\Dell\\AppData\\Local\\Temp/ipykernel_840/1783323536.py:1: SyntaxWarning: \"is\" with a literal. Did you mean \"==\"?\n",
      "  5 is 5\n"
     ]
    },
    {
     "data": {
      "text/plain": [
       "True"
      ]
     },
     "execution_count": 57,
     "metadata": {},
     "output_type": "execute_result"
    }
   ],
   "source": [
    "5 is 5\n",
    " or 5 == 5"
   ]
  },
  {
   "cell_type": "code",
   "execution_count": 63,
   "id": "b590d210",
   "metadata": {},
   "outputs": [
    {
     "name": "stderr",
     "output_type": "stream",
     "text": [
      "<>:2: SyntaxWarning: \"is not\" with a literal. Did you mean \"!=\"?\n",
      "<>:2: SyntaxWarning: \"is not\" with a literal. Did you mean \"!=\"?\n",
      "C:\\Users\\Dell\\AppData\\Local\\Temp/ipykernel_840/255014600.py:2: SyntaxWarning: \"is not\" with a literal. Did you mean \"!=\"?\n",
      "  5 is not 6\n"
     ]
    },
    {
     "data": {
      "text/plain": [
       "True"
      ]
     },
     "execution_count": 63,
     "metadata": {},
     "output_type": "execute_result"
    }
   ],
   "source": [
    "# 5 ! = 6\n",
    "5 is not 6\n"
   ]
  },
  {
   "cell_type": "markdown",
   "id": "f6ba0e9e",
   "metadata": {},
   "source": [
    "### Conditional statement"
   ]
  },
  {
   "cell_type": "code",
   "execution_count": 65,
   "id": "b9e9414b",
   "metadata": {},
   "outputs": [
    {
     "name": "stdout",
     "output_type": "stream",
     "text": [
      "Yes!!! \n"
     ]
    }
   ],
   "source": [
    "a = 5\n",
    "if a == 5:\n",
    "    print(\"Yes!!! \")\n",
    "else:\n",
    "    print(\"Oh No!!!\")\n",
    "    \n",
    "    "
   ]
  },
  {
   "cell_type": "code",
   "execution_count": 68,
   "id": "99a75814",
   "metadata": {},
   "outputs": [
    {
     "name": "stdout",
     "output_type": "stream",
     "text": [
      "Oh No!!!\n"
     ]
    }
   ],
   "source": [
    "a =3\n",
    "if a == 5:\n",
    "    print(\"Yes!!! \")\n",
    "elif a == 4:\n",
    "    print(\"its Four\")\n",
    "else:\n",
    "    print(\"Oh No!!!\")\n",
    "    "
   ]
  },
  {
   "cell_type": "markdown",
   "id": "21ccc359",
   "metadata": {},
   "source": [
    "### Function "
   ]
  },
  {
   "cell_type": "code",
   "execution_count": 72,
   "id": "a3b1fcfb",
   "metadata": {},
   "outputs": [],
   "source": [
    "def squre_func(a):\n",
    "    print(a**3)\n",
    "\n"
   ]
  },
  {
   "cell_type": "code",
   "execution_count": 73,
   "id": "cca41eab",
   "metadata": {},
   "outputs": [
    {
     "name": "stdout",
     "output_type": "stream",
     "text": [
      "125\n"
     ]
    }
   ],
   "source": [
    "squre_func(5)"
   ]
  },
  {
   "cell_type": "code",
   "execution_count": 74,
   "id": "1000fe0d",
   "metadata": {},
   "outputs": [],
   "source": [
    "def power_machine(base_value,power_value):\n",
    "    return base_value**power_value"
   ]
  },
  {
   "cell_type": "code",
   "execution_count": 75,
   "id": "4d593a22",
   "metadata": {},
   "outputs": [
    {
     "data": {
      "text/plain": [
       "8"
      ]
     },
     "execution_count": 75,
     "metadata": {},
     "output_type": "execute_result"
    }
   ],
   "source": [
    "power_machine(2,3)"
   ]
  },
  {
   "cell_type": "code",
   "execution_count": 76,
   "id": "9eb4653f",
   "metadata": {},
   "outputs": [],
   "source": [
    "def comparison_d(val):\n",
    "    if val == 5:\n",
    "        print(\"Yes!!! \")\n",
    "    elif val == 4:\n",
    "        print(\"its Four\")\n",
    "    else:\n",
    "        print(\"Oh No!!!\")\n",
    "        "
   ]
  },
  {
   "cell_type": "code",
   "execution_count": 79,
   "id": "2a3c0a2f",
   "metadata": {},
   "outputs": [
    {
     "name": "stdout",
     "output_type": "stream",
     "text": [
      "Oh No!!!\n"
     ]
    }
   ],
   "source": [
    "comparison_d(8)"
   ]
  },
  {
   "cell_type": "code",
   "execution_count": 81,
   "id": "095974e6",
   "metadata": {},
   "outputs": [
    {
     "data": {
      "text/plain": [
       "int"
      ]
     },
     "execution_count": 81,
     "metadata": {},
     "output_type": "execute_result"
    }
   ],
   "source": [
    "a = 2\n",
    "type(a)"
   ]
  },
  {
   "cell_type": "code",
   "execution_count": 82,
   "id": "08b0dddf",
   "metadata": {},
   "outputs": [],
   "source": [
    "b = float(a)"
   ]
  },
  {
   "cell_type": "code",
   "execution_count": 83,
   "id": "7ccce8a2",
   "metadata": {},
   "outputs": [
    {
     "data": {
      "text/plain": [
       "2.0"
      ]
     },
     "execution_count": 83,
     "metadata": {},
     "output_type": "execute_result"
    }
   ],
   "source": [
    "b"
   ]
  },
  {
   "cell_type": "code",
   "execution_count": 84,
   "id": "7d1bad0d",
   "metadata": {},
   "outputs": [
    {
     "data": {
      "text/plain": [
       "float"
      ]
     },
     "execution_count": 84,
     "metadata": {},
     "output_type": "execute_result"
    }
   ],
   "source": [
    "type(b)"
   ]
  },
  {
   "cell_type": "code",
   "execution_count": 85,
   "id": "08760035",
   "metadata": {},
   "outputs": [],
   "source": [
    "c = str(b)"
   ]
  },
  {
   "cell_type": "code",
   "execution_count": 86,
   "id": "8fa147e9",
   "metadata": {},
   "outputs": [
    {
     "data": {
      "text/plain": [
       "'2.0'"
      ]
     },
     "execution_count": 86,
     "metadata": {},
     "output_type": "execute_result"
    }
   ],
   "source": [
    "c"
   ]
  },
  {
   "cell_type": "code",
   "execution_count": null,
   "id": "5fbaab34",
   "metadata": {},
   "outputs": [],
   "source": [
    "max , min , abs , round , sum , pow, len "
   ]
  },
  {
   "cell_type": "code",
   "execution_count": 87,
   "id": "4042410b",
   "metadata": {},
   "outputs": [
    {
     "data": {
      "text/plain": [
       "3"
      ]
     },
     "execution_count": 87,
     "metadata": {},
     "output_type": "execute_result"
    }
   ],
   "source": [
    "len(c)"
   ]
  },
  {
   "cell_type": "markdown",
   "id": "936de818",
   "metadata": {},
   "source": [
    "### List"
   ]
  },
  {
   "cell_type": "code",
   "execution_count": 94,
   "id": "f2848328",
   "metadata": {},
   "outputs": [],
   "source": [
    "user = ['Amin','Mobin','korim']"
   ]
  },
  {
   "cell_type": "code",
   "execution_count": null,
   "id": "576a6491",
   "metadata": {},
   "outputs": [],
   "source": []
  },
  {
   "cell_type": "code",
   "execution_count": 95,
   "id": "1b3cdd22",
   "metadata": {},
   "outputs": [
    {
     "data": {
      "text/plain": [
       "['Amin', 'Mobin', 'korim']"
      ]
     },
     "execution_count": 95,
     "metadata": {},
     "output_type": "execute_result"
    }
   ],
   "source": [
    "user"
   ]
  },
  {
   "cell_type": "code",
   "execution_count": 96,
   "id": "48247e6b",
   "metadata": {},
   "outputs": [
    {
     "data": {
      "text/plain": [
       "list"
      ]
     },
     "execution_count": 96,
     "metadata": {},
     "output_type": "execute_result"
    }
   ],
   "source": [
    "type(user)"
   ]
  },
  {
   "cell_type": "code",
   "execution_count": 97,
   "id": "e169ce75",
   "metadata": {},
   "outputs": [
    {
     "data": {
      "text/plain": [
       "'Mobin'"
      ]
     },
     "execution_count": 97,
     "metadata": {},
     "output_type": "execute_result"
    }
   ],
   "source": [
    "user[1]"
   ]
  },
  {
   "cell_type": "code",
   "execution_count": 98,
   "id": "4fb3be3d",
   "metadata": {},
   "outputs": [
    {
     "data": {
      "text/plain": [
       "'korim'"
      ]
     },
     "execution_count": 98,
     "metadata": {},
     "output_type": "execute_result"
    }
   ],
   "source": [
    "user[2]"
   ]
  },
  {
   "cell_type": "code",
   "execution_count": 99,
   "id": "fcca6bbf",
   "metadata": {},
   "outputs": [
    {
     "data": {
      "text/plain": [
       "'Amin'"
      ]
     },
     "execution_count": 99,
     "metadata": {},
     "output_type": "execute_result"
    }
   ],
   "source": [
    "user[0]"
   ]
  },
  {
   "cell_type": "code",
   "execution_count": 101,
   "id": "57b97c6a",
   "metadata": {},
   "outputs": [
    {
     "data": {
      "text/plain": [
       "'Mobin'"
      ]
     },
     "execution_count": 101,
     "metadata": {},
     "output_type": "execute_result"
    }
   ],
   "source": [
    "user[-2]"
   ]
  },
  {
   "cell_type": "code",
   "execution_count": 102,
   "id": "eaa00639",
   "metadata": {},
   "outputs": [
    {
     "data": {
      "text/plain": [
       "['Amin', 'Mobin', 'korim']"
      ]
     },
     "execution_count": 102,
     "metadata": {},
     "output_type": "execute_result"
    }
   ],
   "source": [
    "user"
   ]
  },
  {
   "cell_type": "code",
   "execution_count": 103,
   "id": "fa44a679",
   "metadata": {},
   "outputs": [],
   "source": [
    "user.append('Rohit')"
   ]
  },
  {
   "cell_type": "code",
   "execution_count": 104,
   "id": "9d2f4c59",
   "metadata": {},
   "outputs": [
    {
     "data": {
      "text/plain": [
       "['Amin', 'Mobin', 'korim', 'Rohit']"
      ]
     },
     "execution_count": 104,
     "metadata": {},
     "output_type": "execute_result"
    }
   ],
   "source": [
    "user"
   ]
  },
  {
   "cell_type": "code",
   "execution_count": 106,
   "id": "084e7969",
   "metadata": {},
   "outputs": [],
   "source": [
    "user.extend(['Jhon','Lorem','Ipsum','Doe'])"
   ]
  },
  {
   "cell_type": "code",
   "execution_count": 107,
   "id": "17ef01b7",
   "metadata": {},
   "outputs": [
    {
     "data": {
      "text/plain": [
       "['Amin', 'Mobin', 'korim', 'Rohit', 'Jhon', 'Lorem', 'Ipsum', 'Doe']"
      ]
     },
     "execution_count": 107,
     "metadata": {},
     "output_type": "execute_result"
    }
   ],
   "source": [
    "user"
   ]
  },
  {
   "cell_type": "code",
   "execution_count": 108,
   "id": "da965615",
   "metadata": {},
   "outputs": [
    {
     "data": {
      "text/plain": [
       "8"
      ]
     },
     "execution_count": 108,
     "metadata": {},
     "output_type": "execute_result"
    }
   ],
   "source": [
    "len(user)"
   ]
  },
  {
   "cell_type": "code",
   "execution_count": 113,
   "id": "44e3bdc4",
   "metadata": {},
   "outputs": [
    {
     "data": {
      "text/plain": [
       "['Mobin', 'Jhon']"
      ]
     },
     "execution_count": 113,
     "metadata": {},
     "output_type": "execute_result"
    }
   ],
   "source": [
    "# user [start:end:jump]\n",
    "\n",
    "user[1:-1:3]"
   ]
  },
  {
   "cell_type": "code",
   "execution_count": null,
   "id": "4fec522b",
   "metadata": {},
   "outputs": [],
   "source": []
  },
  {
   "cell_type": "code",
   "execution_count": 114,
   "id": "92478a3d",
   "metadata": {},
   "outputs": [
    {
     "data": {
      "text/plain": [
       "['Amin', 'Mobin']"
      ]
     },
     "execution_count": 114,
     "metadata": {},
     "output_type": "execute_result"
    }
   ],
   "source": [
    "user[:2]"
   ]
  },
  {
   "cell_type": "code",
   "execution_count": 115,
   "id": "1711ad98",
   "metadata": {},
   "outputs": [
    {
     "data": {
      "text/plain": [
       "['Rohit', 'Jhon', 'Lorem', 'Ipsum', 'Doe']"
      ]
     },
     "execution_count": 115,
     "metadata": {},
     "output_type": "execute_result"
    }
   ],
   "source": [
    "user[3:]"
   ]
  },
  {
   "cell_type": "code",
   "execution_count": 116,
   "id": "37e9138f",
   "metadata": {},
   "outputs": [
    {
     "data": {
      "text/plain": [
       "['Mobin', 'Jhon', 'Doe']"
      ]
     },
     "execution_count": 116,
     "metadata": {},
     "output_type": "execute_result"
    }
   ],
   "source": [
    "user[1::3]"
   ]
  },
  {
   "cell_type": "markdown",
   "id": "f4f159ca",
   "metadata": {},
   "source": [
    "### Touple\n"
   ]
  },
  {
   "cell_type": "code",
   "execution_count": 1,
   "id": "024c37ce",
   "metadata": {},
   "outputs": [],
   "source": [
    "list_1 = [1,2,4,5]"
   ]
  },
  {
   "cell_type": "code",
   "execution_count": 2,
   "id": "e1dd87ec",
   "metadata": {},
   "outputs": [
    {
     "data": {
      "text/plain": [
       "[1, 2, 4, 5]"
      ]
     },
     "execution_count": 2,
     "metadata": {},
     "output_type": "execute_result"
    }
   ],
   "source": [
    "list_1"
   ]
  },
  {
   "cell_type": "code",
   "execution_count": 4,
   "id": "d8164e7a",
   "metadata": {},
   "outputs": [],
   "source": [
    "list_1[2] = 9"
   ]
  },
  {
   "cell_type": "code",
   "execution_count": 5,
   "id": "0350d5d0",
   "metadata": {},
   "outputs": [
    {
     "data": {
      "text/plain": [
       "[1, 2, 9, 5]"
      ]
     },
     "execution_count": 5,
     "metadata": {},
     "output_type": "execute_result"
    }
   ],
   "source": [
    "list_1"
   ]
  },
  {
   "cell_type": "code",
   "execution_count": 6,
   "id": "208c8532",
   "metadata": {},
   "outputs": [],
   "source": [
    "list_1.remove(9)"
   ]
  },
  {
   "cell_type": "code",
   "execution_count": 7,
   "id": "63cb871c",
   "metadata": {},
   "outputs": [
    {
     "data": {
      "text/plain": [
       "[1, 2, 5]"
      ]
     },
     "execution_count": 7,
     "metadata": {},
     "output_type": "execute_result"
    }
   ],
   "source": [
    "list_1"
   ]
  },
  {
   "cell_type": "code",
   "execution_count": 8,
   "id": "d8081adf",
   "metadata": {},
   "outputs": [],
   "source": [
    "lis_2 = [ 4,7,9,1,0,2]"
   ]
  },
  {
   "cell_type": "code",
   "execution_count": 9,
   "id": "648957a0",
   "metadata": {},
   "outputs": [
    {
     "data": {
      "text/plain": [
       "[4, 7, 9, 1, 0, 2]"
      ]
     },
     "execution_count": 9,
     "metadata": {},
     "output_type": "execute_result"
    }
   ],
   "source": [
    "lis_2"
   ]
  },
  {
   "cell_type": "code",
   "execution_count": 16,
   "id": "5b4c9e5b",
   "metadata": {},
   "outputs": [],
   "source": [
    "lis_2.sort(reverse= True)"
   ]
  },
  {
   "cell_type": "code",
   "execution_count": 17,
   "id": "f42958b9",
   "metadata": {},
   "outputs": [
    {
     "data": {
      "text/plain": [
       "[9, 7, 4, 2, 1, 0]"
      ]
     },
     "execution_count": 17,
     "metadata": {},
     "output_type": "execute_result"
    }
   ],
   "source": [
    "lis_2"
   ]
  },
  {
   "cell_type": "code",
   "execution_count": null,
   "id": "a095701c",
   "metadata": {},
   "outputs": [],
   "source": []
  },
  {
   "cell_type": "code",
   "execution_count": 18,
   "id": "0e6cc8e0",
   "metadata": {},
   "outputs": [],
   "source": [
    "a = 'Rohim'"
   ]
  },
  {
   "cell_type": "code",
   "execution_count": null,
   "id": "51449ea5",
   "metadata": {},
   "outputs": [],
   "source": []
  },
  {
   "cell_type": "code",
   "execution_count": 19,
   "id": "59952ff4",
   "metadata": {},
   "outputs": [
    {
     "data": {
      "text/plain": [
       "'Rohim'"
      ]
     },
     "execution_count": 19,
     "metadata": {},
     "output_type": "execute_result"
    }
   ],
   "source": [
    "a"
   ]
  },
  {
   "cell_type": "code",
   "execution_count": 23,
   "id": "1ce73354",
   "metadata": {},
   "outputs": [
    {
     "data": {
      "text/plain": [
       "'oi'"
      ]
     },
     "execution_count": 23,
     "metadata": {},
     "output_type": "execute_result"
    }
   ],
   "source": [
    "a[1::2]"
   ]
  },
  {
   "cell_type": "code",
   "execution_count": 30,
   "id": "c1daa97e",
   "metadata": {},
   "outputs": [],
   "source": [
    "number = '2346513'"
   ]
  },
  {
   "cell_type": "code",
   "execution_count": 31,
   "id": "41b2073b",
   "metadata": {},
   "outputs": [
    {
     "data": {
      "text/plain": [
       "'4'"
      ]
     },
     "execution_count": 31,
     "metadata": {},
     "output_type": "execute_result"
    }
   ],
   "source": [
    "number[2]"
   ]
  },
  {
   "cell_type": "code",
   "execution_count": 32,
   "id": "344c43a5",
   "metadata": {},
   "outputs": [
    {
     "data": {
      "text/plain": [
       "'Rohim'"
      ]
     },
     "execution_count": 32,
     "metadata": {},
     "output_type": "execute_result"
    }
   ],
   "source": [
    "a"
   ]
  },
  {
   "cell_type": "code",
   "execution_count": 35,
   "id": "cd0cf70e",
   "metadata": {},
   "outputs": [
    {
     "ename": "TypeError",
     "evalue": "'str' object does not support item assignment",
     "output_type": "error",
     "traceback": [
      "\u001b[1;31m---------------------------------------------------------------------------\u001b[0m",
      "\u001b[1;31mTypeError\u001b[0m                                 Traceback (most recent call last)",
      "\u001b[1;32m~\\AppData\\Local\\Temp/ipykernel_11424/1288146504.py\u001b[0m in \u001b[0;36m<module>\u001b[1;34m\u001b[0m\n\u001b[1;32m----> 1\u001b[1;33m \u001b[0ma\u001b[0m\u001b[1;33m[\u001b[0m\u001b[1;36m2\u001b[0m\u001b[1;33m]\u001b[0m \u001b[1;33m=\u001b[0m \u001b[1;34m'Y'\u001b[0m\u001b[1;33m\u001b[0m\u001b[1;33m\u001b[0m\u001b[0m\n\u001b[0m",
      "\u001b[1;31mTypeError\u001b[0m: 'str' object does not support item assignment"
     ]
    }
   ],
   "source": [
    "a[2] = 'Y'"
   ]
  },
  {
   "cell_type": "markdown",
   "id": "2c1208f0",
   "metadata": {},
   "source": [
    "### Dictionary"
   ]
  },
  {
   "cell_type": "code",
   "execution_count": 38,
   "id": "6e9f7889",
   "metadata": {},
   "outputs": [
    {
     "data": {
      "text/plain": [
       "{'v1': 'Cat', 'v2': 'Dog', 'v3': 'bilai'}"
      ]
     },
     "execution_count": 38,
     "metadata": {},
     "output_type": "execute_result"
    }
   ],
   "source": [
    "dict = {\n",
    "    'v1' : 'Cat',\n",
    "    'v2' : 'Dog',\n",
    "    'v3' : 'bilai'\n",
    "}\n",
    "\n",
    "dict"
   ]
  },
  {
   "cell_type": "code",
   "execution_count": 42,
   "id": "7f3ccf2d",
   "metadata": {},
   "outputs": [
    {
     "data": {
      "text/plain": [
       "'bilai'"
      ]
     },
     "execution_count": 42,
     "metadata": {},
     "output_type": "execute_result"
    }
   ],
   "source": [
    "dict['v3']"
   ]
  },
  {
   "cell_type": "code",
   "execution_count": 45,
   "id": "ad645bb1",
   "metadata": {},
   "outputs": [],
   "source": [
    "dict['v4']='Tiger' "
   ]
  },
  {
   "cell_type": "code",
   "execution_count": 46,
   "id": "13ae29b2",
   "metadata": {},
   "outputs": [
    {
     "data": {
      "text/plain": [
       "{'v1': 'Cat', 'v2': 'Dog', 'v3': 'bilai', 'v4': 'Tiger'}"
      ]
     },
     "execution_count": 46,
     "metadata": {},
     "output_type": "execute_result"
    }
   ],
   "source": [
    "dict"
   ]
  },
  {
   "cell_type": "code",
   "execution_count": 47,
   "id": "db0107ef",
   "metadata": {},
   "outputs": [],
   "source": [
    "dict['v3'] = 'Kukur'"
   ]
  },
  {
   "cell_type": "code",
   "execution_count": 48,
   "id": "4861ebc5",
   "metadata": {},
   "outputs": [
    {
     "data": {
      "text/plain": [
       "{'v1': 'Cat', 'v2': 'Dog', 'v3': 'Kukur', 'v4': 'Tiger'}"
      ]
     },
     "execution_count": 48,
     "metadata": {},
     "output_type": "execute_result"
    }
   ],
   "source": [
    "dict"
   ]
  },
  {
   "cell_type": "code",
   "execution_count": 59,
   "id": "e45778ce",
   "metadata": {},
   "outputs": [],
   "source": [
    "peoples = {\n",
    "   '01':{'name' : \"Rahim\",\n",
    "    'age':34,\n",
    "    'address':'Dhaka',\n",
    "    'gender': 'M' },\n",
    "  '02':{'name' : \"karim\",\n",
    "    'age':24,\n",
    "    'address':'Raj',\n",
    "    'gender': 'M' }\n",
    "}"
   ]
  },
  {
   "cell_type": "code",
   "execution_count": 60,
   "id": "879f4970",
   "metadata": {},
   "outputs": [
    {
     "data": {
      "text/plain": [
       "'Raj'"
      ]
     },
     "execution_count": 60,
     "metadata": {},
     "output_type": "execute_result"
    }
   ],
   "source": [
    "peoples['02']['address']"
   ]
  },
  {
   "cell_type": "code",
   "execution_count": null,
   "id": "182607fb",
   "metadata": {},
   "outputs": [],
   "source": []
  },
  {
   "cell_type": "markdown",
   "id": "40ef0e78",
   "metadata": {},
   "source": [
    "### Loop\n"
   ]
  },
  {
   "cell_type": "code",
   "execution_count": 61,
   "id": "ea7ce637",
   "metadata": {},
   "outputs": [],
   "source": [
    "numbers = [0,1,2,3,4,5,6,7,8,9,10,11,12,13,14,15,16,17,18,19,20]"
   ]
  },
  {
   "cell_type": "code",
   "execution_count": null,
   "id": "1d8c04a0",
   "metadata": {},
   "outputs": [],
   "source": []
  },
  {
   "cell_type": "code",
   "execution_count": 62,
   "id": "c87c5341",
   "metadata": {},
   "outputs": [
    {
     "data": {
      "text/plain": [
       "[0, 1, 2, 3, 4, 5, 6, 7, 8, 9, 10, 11, 12, 13, 14, 15, 16, 17, 18, 19, 20]"
      ]
     },
     "execution_count": 62,
     "metadata": {},
     "output_type": "execute_result"
    }
   ],
   "source": [
    "numbers"
   ]
  },
  {
   "cell_type": "code",
   "execution_count": 71,
   "id": "a94a7d2f",
   "metadata": {},
   "outputs": [
    {
     "name": "stdout",
     "output_type": "stream",
     "text": [
      "0\n",
      "1\n",
      "2\n",
      "3\n",
      "4\n",
      "5\n",
      "6\n",
      "7\n",
      "8\n",
      "9\n",
      "10\n",
      "11\n",
      "12\n",
      "13\n",
      "14\n",
      "15\n",
      "16\n",
      "17\n",
      "18\n",
      "19\n",
      "20\n"
     ]
    }
   ],
   "source": [
    "\n",
    "for n in numbers:\n",
    "    print(n)"
   ]
  },
  {
   "cell_type": "code",
   "execution_count": 81,
   "id": "69740f01",
   "metadata": {},
   "outputs": [],
   "source": [
    "numbers_2 = list(range(0,31))"
   ]
  },
  {
   "cell_type": "code",
   "execution_count": 82,
   "id": "42242a37",
   "metadata": {},
   "outputs": [
    {
     "data": {
      "text/plain": [
       "[0,\n",
       " 1,\n",
       " 2,\n",
       " 3,\n",
       " 4,\n",
       " 5,\n",
       " 6,\n",
       " 7,\n",
       " 8,\n",
       " 9,\n",
       " 10,\n",
       " 11,\n",
       " 12,\n",
       " 13,\n",
       " 14,\n",
       " 15,\n",
       " 16,\n",
       " 17,\n",
       " 18,\n",
       " 19,\n",
       " 20,\n",
       " 21,\n",
       " 22,\n",
       " 23,\n",
       " 24,\n",
       " 25,\n",
       " 26,\n",
       " 27,\n",
       " 28,\n",
       " 29,\n",
       " 30]"
      ]
     },
     "execution_count": 82,
     "metadata": {},
     "output_type": "execute_result"
    }
   ],
   "source": [
    "numbers_2"
   ]
  },
  {
   "cell_type": "code",
   "execution_count": 83,
   "id": "dbfd9ef8",
   "metadata": {},
   "outputs": [
    {
     "name": "stdout",
     "output_type": "stream",
     "text": [
      "0\n",
      "1\n",
      "2\n",
      "3\n",
      "4\n",
      "5\n",
      "6\n",
      "7\n",
      "8\n",
      "9\n",
      "10\n",
      "11\n",
      "12\n",
      "13\n",
      "14\n",
      "15\n",
      "16\n",
      "17\n",
      "18\n",
      "19\n",
      "20\n",
      "21\n",
      "22\n",
      "23\n",
      "24\n",
      "25\n",
      "26\n",
      "27\n",
      "28\n",
      "29\n",
      "30\n"
     ]
    }
   ],
   "source": [
    "for i in numbers_2:\n",
    "    print(i)"
   ]
  },
  {
   "cell_type": "code",
   "execution_count": 87,
   "id": "497fc03f",
   "metadata": {},
   "outputs": [
    {
     "name": "stdout",
     "output_type": "stream",
     "text": [
      "0 2 4 6 8 10 12 14 16 18 20 "
     ]
    }
   ],
   "source": [
    "x =  0 \n",
    "\n",
    "while x <= 20:\n",
    "    print(x,end=\" \")\n",
    "    x=x+2"
   ]
  },
  {
   "cell_type": "code",
   "execution_count": 86,
   "id": "59dcb553",
   "metadata": {},
   "outputs": [
    {
     "data": {
      "text/plain": [
       "22"
      ]
     },
     "execution_count": 86,
     "metadata": {},
     "output_type": "execute_result"
    }
   ],
   "source": [
    "x"
   ]
  },
  {
   "cell_type": "code",
   "execution_count": null,
   "id": "b5e96fc3",
   "metadata": {},
   "outputs": [],
   "source": []
  },
  {
   "cell_type": "code",
   "execution_count": 88,
   "id": "6f587951",
   "metadata": {
    "scrolled": true
   },
   "outputs": [
    {
     "name": "stdout",
     "output_type": "stream",
     "text": [
      "1\n",
      "2\n",
      "4\n",
      "8\n",
      "16\n",
      "32\n",
      "64\n",
      "128\n",
      "256\n",
      "512\n"
     ]
    }
   ],
   "source": [
    "for n in range(10):\n",
    "    print(2**n)"
   ]
  },
  {
   "cell_type": "code",
   "execution_count": 91,
   "id": "28ef0f30",
   "metadata": {},
   "outputs": [
    {
     "name": "stdout",
     "output_type": "stream",
     "text": [
      "0\n",
      "Odd\n",
      "2\n",
      "Odd\n",
      "4\n",
      "Odd\n",
      "6\n",
      "Odd\n",
      "8\n",
      "Odd\n",
      "10\n",
      "Odd\n",
      "12\n",
      "Odd\n",
      "14\n",
      "Odd\n",
      "16\n",
      "Odd\n",
      "18\n",
      "Odd\n",
      "20\n"
     ]
    }
   ],
   "source": [
    "for x in range(21):\n",
    "    if x%2 == 0:\n",
    "        print(x)\n",
    "    else:\n",
    "        print('Odd')"
   ]
  },
  {
   "cell_type": "code",
   "execution_count": 92,
   "id": "c8ae9d1d",
   "metadata": {},
   "outputs": [
    {
     "name": "stdout",
     "output_type": "stream",
     "text": [
      "R\n",
      "a\n",
      "h\n",
      "i\n",
      "m\n"
     ]
    }
   ],
   "source": [
    "name = 'Rahim'\n",
    "for x in name:\n",
    "    print(x)"
   ]
  },
  {
   "cell_type": "code",
   "execution_count": 93,
   "id": "a6c51ecb",
   "metadata": {},
   "outputs": [],
   "source": [
    "import math"
   ]
  },
  {
   "cell_type": "code",
   "execution_count": 94,
   "id": "c686cc5b",
   "metadata": {},
   "outputs": [
    {
     "data": {
      "text/plain": [
       "2.0"
      ]
     },
     "execution_count": 94,
     "metadata": {},
     "output_type": "execute_result"
    }
   ],
   "source": [
    "math.sqrt(4)"
   ]
  },
  {
   "cell_type": "code",
   "execution_count": 95,
   "id": "53d06052",
   "metadata": {},
   "outputs": [
    {
     "name": "stdout",
     "output_type": "stream",
     "text": [
      "Help on built-in module math:\n",
      "\n",
      "NAME\n",
      "    math\n",
      "\n",
      "DESCRIPTION\n",
      "    This module provides access to the mathematical functions\n",
      "    defined by the C standard.\n",
      "\n",
      "FUNCTIONS\n",
      "    acos(x, /)\n",
      "        Return the arc cosine (measured in radians) of x.\n",
      "        \n",
      "        The result is between 0 and pi.\n",
      "    \n",
      "    acosh(x, /)\n",
      "        Return the inverse hyperbolic cosine of x.\n",
      "    \n",
      "    asin(x, /)\n",
      "        Return the arc sine (measured in radians) of x.\n",
      "        \n",
      "        The result is between -pi/2 and pi/2.\n",
      "    \n",
      "    asinh(x, /)\n",
      "        Return the inverse hyperbolic sine of x.\n",
      "    \n",
      "    atan(x, /)\n",
      "        Return the arc tangent (measured in radians) of x.\n",
      "        \n",
      "        The result is between -pi/2 and pi/2.\n",
      "    \n",
      "    atan2(y, x, /)\n",
      "        Return the arc tangent (measured in radians) of y/x.\n",
      "        \n",
      "        Unlike atan(y/x), the signs of both x and y are considered.\n",
      "    \n",
      "    atanh(x, /)\n",
      "        Return the inverse hyperbolic tangent of x.\n",
      "    \n",
      "    ceil(x, /)\n",
      "        Return the ceiling of x as an Integral.\n",
      "        \n",
      "        This is the smallest integer >= x.\n",
      "    \n",
      "    comb(n, k, /)\n",
      "        Number of ways to choose k items from n items without repetition and without order.\n",
      "        \n",
      "        Evaluates to n! / (k! * (n - k)!) when k <= n and evaluates\n",
      "        to zero when k > n.\n",
      "        \n",
      "        Also called the binomial coefficient because it is equivalent\n",
      "        to the coefficient of k-th term in polynomial expansion of the\n",
      "        expression (1 + x)**n.\n",
      "        \n",
      "        Raises TypeError if either of the arguments are not integers.\n",
      "        Raises ValueError if either of the arguments are negative.\n",
      "    \n",
      "    copysign(x, y, /)\n",
      "        Return a float with the magnitude (absolute value) of x but the sign of y.\n",
      "        \n",
      "        On platforms that support signed zeros, copysign(1.0, -0.0)\n",
      "        returns -1.0.\n",
      "    \n",
      "    cos(x, /)\n",
      "        Return the cosine of x (measured in radians).\n",
      "    \n",
      "    cosh(x, /)\n",
      "        Return the hyperbolic cosine of x.\n",
      "    \n",
      "    degrees(x, /)\n",
      "        Convert angle x from radians to degrees.\n",
      "    \n",
      "    dist(p, q, /)\n",
      "        Return the Euclidean distance between two points p and q.\n",
      "        \n",
      "        The points should be specified as sequences (or iterables) of\n",
      "        coordinates.  Both inputs must have the same dimension.\n",
      "        \n",
      "        Roughly equivalent to:\n",
      "            sqrt(sum((px - qx) ** 2.0 for px, qx in zip(p, q)))\n",
      "    \n",
      "    erf(x, /)\n",
      "        Error function at x.\n",
      "    \n",
      "    erfc(x, /)\n",
      "        Complementary error function at x.\n",
      "    \n",
      "    exp(x, /)\n",
      "        Return e raised to the power of x.\n",
      "    \n",
      "    expm1(x, /)\n",
      "        Return exp(x)-1.\n",
      "        \n",
      "        This function avoids the loss of precision involved in the direct evaluation of exp(x)-1 for small x.\n",
      "    \n",
      "    fabs(x, /)\n",
      "        Return the absolute value of the float x.\n",
      "    \n",
      "    factorial(x, /)\n",
      "        Find x!.\n",
      "        \n",
      "        Raise a ValueError if x is negative or non-integral.\n",
      "    \n",
      "    floor(x, /)\n",
      "        Return the floor of x as an Integral.\n",
      "        \n",
      "        This is the largest integer <= x.\n",
      "    \n",
      "    fmod(x, y, /)\n",
      "        Return fmod(x, y), according to platform C.\n",
      "        \n",
      "        x % y may differ.\n",
      "    \n",
      "    frexp(x, /)\n",
      "        Return the mantissa and exponent of x, as pair (m, e).\n",
      "        \n",
      "        m is a float and e is an int, such that x = m * 2.**e.\n",
      "        If x is 0, m and e are both 0.  Else 0.5 <= abs(m) < 1.0.\n",
      "    \n",
      "    fsum(seq, /)\n",
      "        Return an accurate floating point sum of values in the iterable seq.\n",
      "        \n",
      "        Assumes IEEE-754 floating point arithmetic.\n",
      "    \n",
      "    gamma(x, /)\n",
      "        Gamma function at x.\n",
      "    \n",
      "    gcd(*integers)\n",
      "        Greatest Common Divisor.\n",
      "    \n",
      "    hypot(...)\n",
      "        hypot(*coordinates) -> value\n",
      "        \n",
      "        Multidimensional Euclidean distance from the origin to a point.\n",
      "        \n",
      "        Roughly equivalent to:\n",
      "            sqrt(sum(x**2 for x in coordinates))\n",
      "        \n",
      "        For a two dimensional point (x, y), gives the hypotenuse\n",
      "        using the Pythagorean theorem:  sqrt(x*x + y*y).\n",
      "        \n",
      "        For example, the hypotenuse of a 3/4/5 right triangle is:\n",
      "        \n",
      "            >>> hypot(3.0, 4.0)\n",
      "            5.0\n",
      "    \n",
      "    isclose(a, b, *, rel_tol=1e-09, abs_tol=0.0)\n",
      "        Determine whether two floating point numbers are close in value.\n",
      "        \n",
      "          rel_tol\n",
      "            maximum difference for being considered \"close\", relative to the\n",
      "            magnitude of the input values\n",
      "          abs_tol\n",
      "            maximum difference for being considered \"close\", regardless of the\n",
      "            magnitude of the input values\n",
      "        \n",
      "        Return True if a is close in value to b, and False otherwise.\n",
      "        \n",
      "        For the values to be considered close, the difference between them\n",
      "        must be smaller than at least one of the tolerances.\n",
      "        \n",
      "        -inf, inf and NaN behave similarly to the IEEE 754 Standard.  That\n",
      "        is, NaN is not close to anything, even itself.  inf and -inf are\n",
      "        only close to themselves.\n",
      "    \n",
      "    isfinite(x, /)\n",
      "        Return True if x is neither an infinity nor a NaN, and False otherwise.\n",
      "    \n",
      "    isinf(x, /)\n",
      "        Return True if x is a positive or negative infinity, and False otherwise.\n",
      "    \n",
      "    isnan(x, /)\n",
      "        Return True if x is a NaN (not a number), and False otherwise.\n",
      "    \n",
      "    isqrt(n, /)\n",
      "        Return the integer part of the square root of the input.\n",
      "    \n",
      "    lcm(*integers)\n",
      "        Least Common Multiple.\n",
      "    \n",
      "    ldexp(x, i, /)\n",
      "        Return x * (2**i).\n",
      "        \n",
      "        This is essentially the inverse of frexp().\n",
      "    \n",
      "    lgamma(x, /)\n",
      "        Natural logarithm of absolute value of Gamma function at x.\n",
      "    \n",
      "    log(...)\n",
      "        log(x, [base=math.e])\n",
      "        Return the logarithm of x to the given base.\n",
      "        \n",
      "        If the base not specified, returns the natural logarithm (base e) of x.\n",
      "    \n",
      "    log10(x, /)\n",
      "        Return the base 10 logarithm of x.\n",
      "    \n",
      "    log1p(x, /)\n",
      "        Return the natural logarithm of 1+x (base e).\n",
      "        \n",
      "        The result is computed in a way which is accurate for x near zero.\n",
      "    \n",
      "    log2(x, /)\n",
      "        Return the base 2 logarithm of x.\n",
      "    \n",
      "    modf(x, /)\n",
      "        Return the fractional and integer parts of x.\n",
      "        \n",
      "        Both results carry the sign of x and are floats.\n",
      "    \n",
      "    nextafter(x, y, /)\n",
      "        Return the next floating-point value after x towards y.\n",
      "    \n",
      "    perm(n, k=None, /)\n",
      "        Number of ways to choose k items from n items without repetition and with order.\n",
      "        \n",
      "        Evaluates to n! / (n - k)! when k <= n and evaluates\n",
      "        to zero when k > n.\n",
      "        \n",
      "        If k is not specified or is None, then k defaults to n\n",
      "        and the function returns n!.\n",
      "        \n",
      "        Raises TypeError if either of the arguments are not integers.\n",
      "        Raises ValueError if either of the arguments are negative.\n",
      "    \n",
      "    pow(x, y, /)\n",
      "        Return x**y (x to the power of y).\n",
      "    \n",
      "    prod(iterable, /, *, start=1)\n",
      "        Calculate the product of all the elements in the input iterable.\n",
      "        \n",
      "        The default start value for the product is 1.\n",
      "        \n",
      "        When the iterable is empty, return the start value.  This function is\n",
      "        intended specifically for use with numeric values and may reject\n",
      "        non-numeric types.\n",
      "    \n",
      "    radians(x, /)\n",
      "        Convert angle x from degrees to radians.\n",
      "    \n",
      "    remainder(x, y, /)\n",
      "        Difference between x and the closest integer multiple of y.\n",
      "        \n",
      "        Return x - n*y where n*y is the closest integer multiple of y.\n",
      "        In the case where x is exactly halfway between two multiples of\n",
      "        y, the nearest even value of n is used. The result is always exact.\n",
      "    \n",
      "    sin(x, /)\n",
      "        Return the sine of x (measured in radians).\n",
      "    \n",
      "    sinh(x, /)\n",
      "        Return the hyperbolic sine of x.\n",
      "    \n",
      "    sqrt(x, /)\n",
      "        Return the square root of x.\n",
      "    \n",
      "    tan(x, /)\n",
      "        Return the tangent of x (measured in radians).\n",
      "    \n",
      "    tanh(x, /)\n",
      "        Return the hyperbolic tangent of x.\n",
      "    \n",
      "    trunc(x, /)\n",
      "        Truncates the Real x to the nearest Integral toward 0.\n",
      "        \n",
      "        Uses the __trunc__ magic method.\n",
      "    \n",
      "    ulp(x, /)\n",
      "        Return the value of the least significant bit of the float x.\n",
      "\n",
      "DATA\n",
      "    e = 2.718281828459045\n",
      "    inf = inf\n",
      "    nan = nan\n",
      "    pi = 3.141592653589793\n",
      "    tau = 6.283185307179586\n",
      "\n",
      "FILE\n",
      "    (built-in)\n",
      "\n",
      "\n"
     ]
    }
   ],
   "source": [
    "help(math)"
   ]
  },
  {
   "cell_type": "markdown",
   "id": "8ec613b9",
   "metadata": {},
   "source": [
    "### Numpy & Pandas"
   ]
  },
  {
   "cell_type": "code",
   "execution_count": 1,
   "id": "91256ae0",
   "metadata": {},
   "outputs": [],
   "source": [
    "import numpy as np"
   ]
  },
  {
   "cell_type": "code",
   "execution_count": 97,
   "id": "1446ed3b",
   "metadata": {},
   "outputs": [
    {
     "data": {
      "text/plain": [
       "'1.20.3'"
      ]
     },
     "execution_count": 97,
     "metadata": {},
     "output_type": "execute_result"
    }
   ],
   "source": [
    "np.__version__\n"
   ]
  },
  {
   "cell_type": "code",
   "execution_count": 100,
   "id": "8ffffe02",
   "metadata": {},
   "outputs": [
    {
     "data": {
      "text/plain": [
       "2"
      ]
     },
     "execution_count": 100,
     "metadata": {},
     "output_type": "execute_result"
    }
   ],
   "source": [
    "s = 2\n",
    "s"
   ]
  },
  {
   "cell_type": "code",
   "execution_count": 103,
   "id": "8afda872",
   "metadata": {
    "scrolled": true
   },
   "outputs": [
    {
     "name": "stdout",
     "output_type": "stream",
     "text": [
      "[ 4  1 -9]\n"
     ]
    }
   ],
   "source": [
    "# vector \n",
    "\n",
    "v = np.array([4,1,-9])\n",
    "print(v)"
   ]
  },
  {
   "cell_type": "code",
   "execution_count": 104,
   "id": "6dd378ac",
   "metadata": {},
   "outputs": [
    {
     "data": {
      "text/plain": [
       "numpy.ndarray"
      ]
     },
     "execution_count": 104,
     "metadata": {},
     "output_type": "execute_result"
    }
   ],
   "source": [
    "type(v)"
   ]
  },
  {
   "cell_type": "code",
   "execution_count": 105,
   "id": "d4f97b28",
   "metadata": {},
   "outputs": [],
   "source": [
    "# Matrix\n",
    "\n",
    "m = np.array([\n",
    "    [5,6,8],\n",
    "    [1,2,5],\n",
    "    [6,1,2]\n",
    "])"
   ]
  },
  {
   "cell_type": "code",
   "execution_count": null,
   "id": "c716d0c5",
   "metadata": {},
   "outputs": [],
   "source": []
  },
  {
   "cell_type": "code",
   "execution_count": 106,
   "id": "c5697abc",
   "metadata": {},
   "outputs": [
    {
     "data": {
      "text/plain": [
       "array([[5, 6, 8],\n",
       "       [1, 2, 5],\n",
       "       [6, 1, 2]])"
      ]
     },
     "execution_count": 106,
     "metadata": {},
     "output_type": "execute_result"
    }
   ],
   "source": [
    "m"
   ]
  },
  {
   "cell_type": "code",
   "execution_count": 107,
   "id": "d7a13f61",
   "metadata": {},
   "outputs": [
    {
     "data": {
      "text/plain": [
       "numpy.ndarray"
      ]
     },
     "execution_count": 107,
     "metadata": {},
     "output_type": "execute_result"
    }
   ],
   "source": [
    "type(m)"
   ]
  },
  {
   "cell_type": "code",
   "execution_count": 109,
   "id": "15fe3660",
   "metadata": {},
   "outputs": [
    {
     "data": {
      "text/plain": [
       "(3, 3)"
      ]
     },
     "execution_count": 109,
     "metadata": {},
     "output_type": "execute_result"
    }
   ],
   "source": [
    "m.shape"
   ]
  },
  {
   "cell_type": "code",
   "execution_count": 110,
   "id": "6d579fad",
   "metadata": {},
   "outputs": [
    {
     "data": {
      "text/plain": [
       "(3,)"
      ]
     },
     "execution_count": 110,
     "metadata": {},
     "output_type": "execute_result"
    }
   ],
   "source": [
    "v.shape"
   ]
  },
  {
   "cell_type": "code",
   "execution_count": 115,
   "id": "cd29f098",
   "metadata": {},
   "outputs": [
    {
     "data": {
      "text/plain": [
       "array([ 4,  1, -9])"
      ]
     },
     "execution_count": 115,
     "metadata": {},
     "output_type": "execute_result"
    }
   ],
   "source": [
    "v"
   ]
  },
  {
   "cell_type": "code",
   "execution_count": 116,
   "id": "f210a72d",
   "metadata": {},
   "outputs": [
    {
     "data": {
      "text/plain": [
       "array([[ 4],\n",
       "       [ 1],\n",
       "       [-9]])"
      ]
     },
     "execution_count": 116,
     "metadata": {},
     "output_type": "execute_result"
    }
   ],
   "source": [
    "v1 = v.reshape(3,1)\n",
    "v1"
   ]
  },
  {
   "cell_type": "code",
   "execution_count": 117,
   "id": "e67e1515",
   "metadata": {},
   "outputs": [
    {
     "data": {
      "text/plain": [
       "(3, 1)"
      ]
     },
     "execution_count": 117,
     "metadata": {},
     "output_type": "execute_result"
    }
   ],
   "source": [
    "v1.shape"
   ]
  },
  {
   "cell_type": "code",
   "execution_count": 118,
   "id": "88b2e8cf",
   "metadata": {},
   "outputs": [
    {
     "data": {
      "text/plain": [
       "array([[8, 2, 1, 3],\n",
       "       [4, 2, 9, 8]])"
      ]
     },
     "execution_count": 118,
     "metadata": {},
     "output_type": "execute_result"
    }
   ],
   "source": [
    "m2 = np.array([\n",
    "    [8,2,1,3],\n",
    "    [4,2,9,8]\n",
    "])\n",
    "m2"
   ]
  },
  {
   "cell_type": "code",
   "execution_count": 119,
   "id": "37ac742c",
   "metadata": {},
   "outputs": [
    {
     "data": {
      "text/plain": [
       "(2, 4)"
      ]
     },
     "execution_count": 119,
     "metadata": {},
     "output_type": "execute_result"
    }
   ],
   "source": [
    "m2.shape"
   ]
  },
  {
   "cell_type": "code",
   "execution_count": 121,
   "id": "97822d6f",
   "metadata": {},
   "outputs": [
    {
     "data": {
      "text/plain": [
       "array([[8, 2],\n",
       "       [1, 3],\n",
       "       [4, 2],\n",
       "       [9, 8]])"
      ]
     },
     "execution_count": 121,
     "metadata": {},
     "output_type": "execute_result"
    }
   ],
   "source": [
    "m2.reshape(4,2)"
   ]
  },
  {
   "cell_type": "code",
   "execution_count": 122,
   "id": "a601a9f7",
   "metadata": {},
   "outputs": [],
   "source": [
    "mat1 = np.array([\n",
    "    [3,4,7],\n",
    "    [4,5,6],\n",
    "    [2,1,6]\n",
    "])\n",
    "\n",
    "mat2 = np.array([\n",
    "    [43,2,-1],\n",
    "    [6,5,-3],\n",
    "    [2,3,-1]\n",
    "])"
   ]
  },
  {
   "cell_type": "code",
   "execution_count": 123,
   "id": "78e0e2d5",
   "metadata": {},
   "outputs": [
    {
     "data": {
      "text/plain": [
       "array([[3, 4, 7],\n",
       "       [4, 5, 6],\n",
       "       [2, 1, 6]])"
      ]
     },
     "execution_count": 123,
     "metadata": {},
     "output_type": "execute_result"
    }
   ],
   "source": [
    "mat1"
   ]
  },
  {
   "cell_type": "code",
   "execution_count": 124,
   "id": "dd7d8b20",
   "metadata": {},
   "outputs": [
    {
     "data": {
      "text/plain": [
       "array([[43,  2, -1],\n",
       "       [ 6,  5, -3],\n",
       "       [ 2,  3, -1]])"
      ]
     },
     "execution_count": 124,
     "metadata": {},
     "output_type": "execute_result"
    }
   ],
   "source": [
    "mat2"
   ]
  },
  {
   "cell_type": "code",
   "execution_count": 125,
   "id": "5da190a0",
   "metadata": {},
   "outputs": [],
   "source": [
    "ten = np.array([\n",
    "    mat1,\n",
    "    mat2\n",
    "])"
   ]
  },
  {
   "cell_type": "code",
   "execution_count": 126,
   "id": "f46aa07a",
   "metadata": {},
   "outputs": [
    {
     "data": {
      "text/plain": [
       "array([[[ 3,  4,  7],\n",
       "        [ 4,  5,  6],\n",
       "        [ 2,  1,  6]],\n",
       "\n",
       "       [[43,  2, -1],\n",
       "        [ 6,  5, -3],\n",
       "        [ 2,  3, -1]]])"
      ]
     },
     "execution_count": 126,
     "metadata": {},
     "output_type": "execute_result"
    }
   ],
   "source": [
    "ten"
   ]
  },
  {
   "cell_type": "code",
   "execution_count": null,
   "id": "87a1b506",
   "metadata": {},
   "outputs": [],
   "source": []
  },
  {
   "cell_type": "code",
   "execution_count": 127,
   "id": "28b255af",
   "metadata": {},
   "outputs": [
    {
     "data": {
      "text/plain": [
       "(2, 3, 3)"
      ]
     },
     "execution_count": 127,
     "metadata": {},
     "output_type": "execute_result"
    }
   ],
   "source": [
    "ten.shape"
   ]
  },
  {
   "cell_type": "code",
   "execution_count": 130,
   "id": "1257cbda",
   "metadata": {},
   "outputs": [],
   "source": [
    "ten2 = np.array([\n",
    "    [\n",
    "        [32,53,21],\n",
    "        [45,21,9]\n",
    "    \n",
    "    ],\n",
    "    [\n",
    "        [54,32,11],\n",
    "        [87,-45,34]\n",
    "       \n",
    "    ],\n",
    "    [\n",
    "        [543,21,-98],\n",
    "        [43,12,-87]\n",
    "      \n",
    "    ]\n",
    "])"
   ]
  },
  {
   "cell_type": "code",
   "execution_count": 131,
   "id": "3fa955a9",
   "metadata": {},
   "outputs": [
    {
     "data": {
      "text/plain": [
       "(3, 2, 3)"
      ]
     },
     "execution_count": 131,
     "metadata": {},
     "output_type": "execute_result"
    }
   ],
   "source": [
    "ten2.shape"
   ]
  },
  {
   "cell_type": "code",
   "execution_count": 2,
   "id": "6fd8d98b",
   "metadata": {},
   "outputs": [],
   "source": [
    "import numpy as np"
   ]
  },
  {
   "cell_type": "code",
   "execution_count": 3,
   "id": "d82df850",
   "metadata": {},
   "outputs": [],
   "source": [
    "matr_1 = np.array([\n",
    "    [5,2,4],\n",
    "    [4,6,2]\n",
    "])"
   ]
  },
  {
   "cell_type": "code",
   "execution_count": 4,
   "id": "53215b8a",
   "metadata": {},
   "outputs": [],
   "source": [
    "matr_2 = np.array([\n",
    "    [-5,2,-3],\n",
    "    [-2,6,0]\n",
    "])"
   ]
  },
  {
   "cell_type": "code",
   "execution_count": 5,
   "id": "8d41a0a4",
   "metadata": {},
   "outputs": [
    {
     "data": {
      "text/plain": [
       "(2, 3)"
      ]
     },
     "execution_count": 5,
     "metadata": {},
     "output_type": "execute_result"
    }
   ],
   "source": [
    "matr_1.shape"
   ]
  },
  {
   "cell_type": "code",
   "execution_count": 7,
   "id": "77d393c3",
   "metadata": {},
   "outputs": [
    {
     "data": {
      "text/plain": [
       "array([[10,  0,  7],\n",
       "       [ 6,  0,  2]])"
      ]
     },
     "execution_count": 7,
     "metadata": {},
     "output_type": "execute_result"
    }
   ],
   "source": [
    "matr_1 - matr_2"
   ]
  },
  {
   "cell_type": "code",
   "execution_count": 8,
   "id": "49781324",
   "metadata": {},
   "outputs": [
    {
     "data": {
      "text/plain": [
       "array([[6, 3, 5],\n",
       "       [5, 7, 3]])"
      ]
     },
     "execution_count": 8,
     "metadata": {},
     "output_type": "execute_result"
    }
   ],
   "source": [
    "matr_1+1"
   ]
  },
  {
   "cell_type": "code",
   "execution_count": 9,
   "id": "bad4abf9",
   "metadata": {},
   "outputs": [
    {
     "data": {
      "text/plain": [
       "array([[5, 2, 4],\n",
       "       [4, 6, 2]])"
      ]
     },
     "execution_count": 9,
     "metadata": {},
     "output_type": "execute_result"
    }
   ],
   "source": [
    "matr_1"
   ]
  },
  {
   "cell_type": "code",
   "execution_count": 10,
   "id": "b600a31a",
   "metadata": {},
   "outputs": [
    {
     "data": {
      "text/plain": [
       "array([[5, 4],\n",
       "       [2, 6],\n",
       "       [4, 2]])"
      ]
     },
     "execution_count": 10,
     "metadata": {},
     "output_type": "execute_result"
    }
   ],
   "source": [
    "matr_1.T"
   ]
  },
  {
   "cell_type": "code",
   "execution_count": 13,
   "id": "9df80893",
   "metadata": {},
   "outputs": [],
   "source": [
    "x = [4]\n",
    "y= [3]"
   ]
  },
  {
   "cell_type": "code",
   "execution_count": 14,
   "id": "b4fa3d8f",
   "metadata": {},
   "outputs": [
    {
     "data": {
      "text/plain": [
       "12"
      ]
     },
     "execution_count": 14,
     "metadata": {},
     "output_type": "execute_result"
    }
   ],
   "source": [
    "np.dot(x,y)"
   ]
  },
  {
   "cell_type": "code",
   "execution_count": 29,
   "id": "a342c69b",
   "metadata": {},
   "outputs": [],
   "source": [
    "xv = np.array([\n",
    "    [3,5]\n",
    "])"
   ]
  },
  {
   "cell_type": "code",
   "execution_count": 30,
   "id": "5dfc42d2",
   "metadata": {},
   "outputs": [
    {
     "data": {
      "text/plain": [
       "array([[3, 5]])"
      ]
     },
     "execution_count": 30,
     "metadata": {},
     "output_type": "execute_result"
    }
   ],
   "source": [
    "xv"
   ]
  },
  {
   "cell_type": "code",
   "execution_count": 31,
   "id": "2be5d713",
   "metadata": {},
   "outputs": [],
   "source": [
    "yv = np.array([\n",
    "    [1,2]\n",
    "])"
   ]
  },
  {
   "cell_type": "code",
   "execution_count": 35,
   "id": "e29141ad",
   "metadata": {},
   "outputs": [
    {
     "data": {
      "text/plain": [
       "array([[1],\n",
       "       [2]])"
      ]
     },
     "execution_count": 35,
     "metadata": {},
     "output_type": "execute_result"
    }
   ],
   "source": [
    "yv.T"
   ]
  },
  {
   "cell_type": "code",
   "execution_count": 34,
   "id": "b0e45f75",
   "metadata": {},
   "outputs": [
    {
     "data": {
      "text/plain": [
       "array([[13]])"
      ]
     },
     "execution_count": 34,
     "metadata": {},
     "output_type": "execute_result"
    }
   ],
   "source": [
    "np.dot(xv,yv.T)"
   ]
  },
  {
   "cell_type": "code",
   "execution_count": 36,
   "id": "5791be63",
   "metadata": {},
   "outputs": [],
   "source": [
    "import pandas as pd"
   ]
  },
  {
   "cell_type": "code",
   "execution_count": 39,
   "id": "94689c6c",
   "metadata": {},
   "outputs": [],
   "source": [
    "sales = pd.read_csv(\"C:/Users/Dell/jupyter/B3DA/Python/Pandas/Sales-products.csv\")"
   ]
  },
  {
   "cell_type": "code",
   "execution_count": null,
   "id": "d79186d7",
   "metadata": {},
   "outputs": [],
   "source": []
  },
  {
   "cell_type": "code",
   "execution_count": 40,
   "id": "2d83c956",
   "metadata": {
    "scrolled": true
   },
   "outputs": [
    {
     "data": {
      "text/html": [
       "<div>\n",
       "<style scoped>\n",
       "    .dataframe tbody tr th:only-of-type {\n",
       "        vertical-align: middle;\n",
       "    }\n",
       "\n",
       "    .dataframe tbody tr th {\n",
       "        vertical-align: top;\n",
       "    }\n",
       "\n",
       "    .dataframe thead th {\n",
       "        text-align: right;\n",
       "    }\n",
       "</style>\n",
       "<table border=\"1\" class=\"dataframe\">\n",
       "  <thead>\n",
       "    <tr style=\"text-align: right;\">\n",
       "      <th></th>\n",
       "      <th>SaleID</th>\n",
       "      <th>RetailerCountry</th>\n",
       "      <th>OrderMethod</th>\n",
       "      <th>RetailerType</th>\n",
       "      <th>ProductLine</th>\n",
       "      <th>ProductType</th>\n",
       "      <th>Product</th>\n",
       "      <th>Year</th>\n",
       "      <th>Quarter</th>\n",
       "      <th>Revenue</th>\n",
       "      <th>Quantity</th>\n",
       "      <th>GrossMargin</th>\n",
       "    </tr>\n",
       "  </thead>\n",
       "  <tbody>\n",
       "    <tr>\n",
       "      <th>0</th>\n",
       "      <td>SaleID_1</td>\n",
       "      <td>United States</td>\n",
       "      <td>Fax</td>\n",
       "      <td>Outdoors Shop</td>\n",
       "      <td>Personal Accessories</td>\n",
       "      <td>Cooking Gear</td>\n",
       "      <td>TrailChef Deluxe Cook Set</td>\n",
       "      <td>2018.0</td>\n",
       "      <td>Q1 2018</td>\n",
       "      <td>59728.66</td>\n",
       "      <td>491.0</td>\n",
       "      <td>0.357548</td>\n",
       "    </tr>\n",
       "    <tr>\n",
       "      <th>1</th>\n",
       "      <td>SaleID_2</td>\n",
       "      <td>United States</td>\n",
       "      <td>Fax</td>\n",
       "      <td>Outdoors Shop</td>\n",
       "      <td>Sports Equipment</td>\n",
       "      <td>Cooking Gear</td>\n",
       "      <td>TrailChef Double Flame</td>\n",
       "      <td>2018.0</td>\n",
       "      <td>Q1 2018</td>\n",
       "      <td>36050.32</td>\n",
       "      <td>254.0</td>\n",
       "      <td>0.484274</td>\n",
       "    </tr>\n",
       "    <tr>\n",
       "      <th>2</th>\n",
       "      <td>SaleID_3</td>\n",
       "      <td>United States</td>\n",
       "      <td>Fax</td>\n",
       "      <td>Outdoors Shop</td>\n",
       "      <td>NaN</td>\n",
       "      <td>Tents</td>\n",
       "      <td>Star Dome</td>\n",
       "      <td>2018.0</td>\n",
       "      <td>Q1 2018</td>\n",
       "      <td>90040.48</td>\n",
       "      <td>149.0</td>\n",
       "      <td>NaN</td>\n",
       "    </tr>\n",
       "    <tr>\n",
       "      <th>3</th>\n",
       "      <td>SaleID_4</td>\n",
       "      <td>United States</td>\n",
       "      <td>Fax</td>\n",
       "      <td>Outdoors Shop</td>\n",
       "      <td>NaN</td>\n",
       "      <td>Tents</td>\n",
       "      <td>Star Gazer 2</td>\n",
       "      <td>2018.0</td>\n",
       "      <td>Q1 2018</td>\n",
       "      <td>NaN</td>\n",
       "      <td>305.0</td>\n",
       "      <td>0.292938</td>\n",
       "    </tr>\n",
       "    <tr>\n",
       "      <th>4</th>\n",
       "      <td>SaleID_5</td>\n",
       "      <td>United States</td>\n",
       "      <td>NaN</td>\n",
       "      <td>Outdoors Shop</td>\n",
       "      <td>Personal Accessories</td>\n",
       "      <td>First Aid</td>\n",
       "      <td>Compact Relief Kit</td>\n",
       "      <td>2018.0</td>\n",
       "      <td>Q1 2018</td>\n",
       "      <td>NaN</td>\n",
       "      <td>182.0</td>\n",
       "      <td>0.610710</td>\n",
       "    </tr>\n",
       "    <tr>\n",
       "      <th>...</th>\n",
       "      <td>...</td>\n",
       "      <td>...</td>\n",
       "      <td>...</td>\n",
       "      <td>...</td>\n",
       "      <td>...</td>\n",
       "      <td>...</td>\n",
       "      <td>...</td>\n",
       "      <td>...</td>\n",
       "      <td>...</td>\n",
       "      <td>...</td>\n",
       "      <td>...</td>\n",
       "      <td>...</td>\n",
       "    </tr>\n",
       "    <tr>\n",
       "      <th>1271</th>\n",
       "      <td>SaleID_1272</td>\n",
       "      <td>Spain</td>\n",
       "      <td>Sales visit</td>\n",
       "      <td>Outdoors Shop</td>\n",
       "      <td>Personal Accessories</td>\n",
       "      <td>Rope</td>\n",
       "      <td>Husky Rope 60</td>\n",
       "      <td>2020.0</td>\n",
       "      <td>Q3 2020</td>\n",
       "      <td>30916.50</td>\n",
       "      <td>173.0</td>\n",
       "      <td>0.298114</td>\n",
       "    </tr>\n",
       "    <tr>\n",
       "      <th>1272</th>\n",
       "      <td>SaleID_1273</td>\n",
       "      <td>Spain</td>\n",
       "      <td>Sales visit</td>\n",
       "      <td>Outdoors Shop</td>\n",
       "      <td>Outdoor Protection</td>\n",
       "      <td>Climbing Accessories</td>\n",
       "      <td>Firefly Climbing Lamp</td>\n",
       "      <td>2020.0</td>\n",
       "      <td>Q3 2020</td>\n",
       "      <td>7536.29</td>\n",
       "      <td>193.0</td>\n",
       "      <td>0.445287</td>\n",
       "    </tr>\n",
       "    <tr>\n",
       "      <th>1273</th>\n",
       "      <td>SaleID_1274</td>\n",
       "      <td>Spain</td>\n",
       "      <td>Sales visit</td>\n",
       "      <td>Outdoors Shop</td>\n",
       "      <td>Personal Accessories</td>\n",
       "      <td>Climbing Accessories</td>\n",
       "      <td>Firefly Charger</td>\n",
       "      <td>2020.0</td>\n",
       "      <td>Q3 2020</td>\n",
       "      <td>12306.48</td>\n",
       "      <td>238.0</td>\n",
       "      <td>0.568420</td>\n",
       "    </tr>\n",
       "    <tr>\n",
       "      <th>1274</th>\n",
       "      <td>SaleID_1275</td>\n",
       "      <td>Spain</td>\n",
       "      <td>Sales visit</td>\n",
       "      <td>Outdoors Shop</td>\n",
       "      <td>Personal Accessories</td>\n",
       "      <td>Tools</td>\n",
       "      <td>Granite Axe</td>\n",
       "      <td>2020.0</td>\n",
       "      <td>Q3 2020</td>\n",
       "      <td>56499.00</td>\n",
       "      <td>1472.0</td>\n",
       "      <td>0.490667</td>\n",
       "    </tr>\n",
       "    <tr>\n",
       "      <th>1275</th>\n",
       "      <td>SaleID_1276</td>\n",
       "      <td>Spain</td>\n",
       "      <td>Sales visit</td>\n",
       "      <td>Outdoors Shop</td>\n",
       "      <td>Camping Equipment</td>\n",
       "      <td>Tools</td>\n",
       "      <td>Granite Extreme</td>\n",
       "      <td>2020.0</td>\n",
       "      <td>Q3 2020</td>\n",
       "      <td>89427.00</td>\n",
       "      <td>1178.0</td>\n",
       "      <td>0.386895</td>\n",
       "    </tr>\n",
       "  </tbody>\n",
       "</table>\n",
       "<p>1276 rows × 12 columns</p>\n",
       "</div>"
      ],
      "text/plain": [
       "           SaleID RetailerCountry  OrderMethod   RetailerType  \\\n",
       "0        SaleID_1   United States          Fax  Outdoors Shop   \n",
       "1        SaleID_2   United States          Fax  Outdoors Shop   \n",
       "2        SaleID_3   United States          Fax  Outdoors Shop   \n",
       "3        SaleID_4   United States          Fax  Outdoors Shop   \n",
       "4        SaleID_5   United States          NaN  Outdoors Shop   \n",
       "...           ...             ...          ...            ...   \n",
       "1271  SaleID_1272           Spain  Sales visit  Outdoors Shop   \n",
       "1272  SaleID_1273           Spain  Sales visit  Outdoors Shop   \n",
       "1273  SaleID_1274           Spain  Sales visit  Outdoors Shop   \n",
       "1274  SaleID_1275           Spain  Sales visit  Outdoors Shop   \n",
       "1275  SaleID_1276           Spain  Sales visit  Outdoors Shop   \n",
       "\n",
       "               ProductLine           ProductType                    Product  \\\n",
       "0     Personal Accessories          Cooking Gear  TrailChef Deluxe Cook Set   \n",
       "1         Sports Equipment          Cooking Gear     TrailChef Double Flame   \n",
       "2                      NaN                 Tents                  Star Dome   \n",
       "3                      NaN                 Tents               Star Gazer 2   \n",
       "4     Personal Accessories             First Aid         Compact Relief Kit   \n",
       "...                    ...                   ...                        ...   \n",
       "1271  Personal Accessories                  Rope              Husky Rope 60   \n",
       "1272    Outdoor Protection  Climbing Accessories      Firefly Climbing Lamp   \n",
       "1273  Personal Accessories  Climbing Accessories            Firefly Charger   \n",
       "1274  Personal Accessories                 Tools                Granite Axe   \n",
       "1275     Camping Equipment                 Tools            Granite Extreme   \n",
       "\n",
       "        Year  Quarter   Revenue  Quantity  GrossMargin  \n",
       "0     2018.0  Q1 2018  59728.66     491.0     0.357548  \n",
       "1     2018.0  Q1 2018  36050.32     254.0     0.484274  \n",
       "2     2018.0  Q1 2018  90040.48     149.0          NaN  \n",
       "3     2018.0  Q1 2018       NaN     305.0     0.292938  \n",
       "4     2018.0  Q1 2018       NaN     182.0     0.610710  \n",
       "...      ...      ...       ...       ...          ...  \n",
       "1271  2020.0  Q3 2020  30916.50     173.0     0.298114  \n",
       "1272  2020.0  Q3 2020   7536.29     193.0     0.445287  \n",
       "1273  2020.0  Q3 2020  12306.48     238.0     0.568420  \n",
       "1274  2020.0  Q3 2020  56499.00    1472.0     0.490667  \n",
       "1275  2020.0  Q3 2020  89427.00    1178.0     0.386895  \n",
       "\n",
       "[1276 rows x 12 columns]"
      ]
     },
     "execution_count": 40,
     "metadata": {},
     "output_type": "execute_result"
    }
   ],
   "source": [
    "sales"
   ]
  },
  {
   "cell_type": "code",
   "execution_count": 77,
   "id": "08dc1441",
   "metadata": {},
   "outputs": [],
   "source": [
    "from pathlib import Path  \n",
    "sales_data = Path('E:/DA_Presentation/dataset/Python/Pandas/Sales-products.csv')  \n",
    "sales_data.parent.mkdir(parents=True, exist_ok=True)  \n"
   ]
  },
  {
   "cell_type": "code",
   "execution_count": 78,
   "id": "71b931d2",
   "metadata": {},
   "outputs": [],
   "source": [
    "sales_2 = pd.read_csv(sales_data)"
   ]
  },
  {
   "cell_type": "code",
   "execution_count": 42,
   "id": "b5a83bce",
   "metadata": {},
   "outputs": [
    {
     "data": {
      "text/html": [
       "<div>\n",
       "<style scoped>\n",
       "    .dataframe tbody tr th:only-of-type {\n",
       "        vertical-align: middle;\n",
       "    }\n",
       "\n",
       "    .dataframe tbody tr th {\n",
       "        vertical-align: top;\n",
       "    }\n",
       "\n",
       "    .dataframe thead th {\n",
       "        text-align: right;\n",
       "    }\n",
       "</style>\n",
       "<table border=\"1\" class=\"dataframe\">\n",
       "  <thead>\n",
       "    <tr style=\"text-align: right;\">\n",
       "      <th></th>\n",
       "      <th>SaleID</th>\n",
       "      <th>RetailerCountry</th>\n",
       "      <th>OrderMethod</th>\n",
       "      <th>RetailerType</th>\n",
       "      <th>ProductLine</th>\n",
       "      <th>ProductType</th>\n",
       "      <th>Product</th>\n",
       "      <th>Year</th>\n",
       "      <th>Quarter</th>\n",
       "      <th>Revenue</th>\n",
       "      <th>Quantity</th>\n",
       "      <th>GrossMargin</th>\n",
       "    </tr>\n",
       "  </thead>\n",
       "  <tbody>\n",
       "    <tr>\n",
       "      <th>0</th>\n",
       "      <td>SaleID_1</td>\n",
       "      <td>United States</td>\n",
       "      <td>Fax</td>\n",
       "      <td>Outdoors Shop</td>\n",
       "      <td>Personal Accessories</td>\n",
       "      <td>Cooking Gear</td>\n",
       "      <td>TrailChef Deluxe Cook Set</td>\n",
       "      <td>2018.0</td>\n",
       "      <td>Q1 2018</td>\n",
       "      <td>59728.66</td>\n",
       "      <td>491.0</td>\n",
       "      <td>0.357548</td>\n",
       "    </tr>\n",
       "    <tr>\n",
       "      <th>1</th>\n",
       "      <td>SaleID_2</td>\n",
       "      <td>United States</td>\n",
       "      <td>Fax</td>\n",
       "      <td>Outdoors Shop</td>\n",
       "      <td>Sports Equipment</td>\n",
       "      <td>Cooking Gear</td>\n",
       "      <td>TrailChef Double Flame</td>\n",
       "      <td>2018.0</td>\n",
       "      <td>Q1 2018</td>\n",
       "      <td>36050.32</td>\n",
       "      <td>254.0</td>\n",
       "      <td>0.484274</td>\n",
       "    </tr>\n",
       "    <tr>\n",
       "      <th>2</th>\n",
       "      <td>SaleID_3</td>\n",
       "      <td>United States</td>\n",
       "      <td>Fax</td>\n",
       "      <td>Outdoors Shop</td>\n",
       "      <td>NaN</td>\n",
       "      <td>Tents</td>\n",
       "      <td>Star Dome</td>\n",
       "      <td>2018.0</td>\n",
       "      <td>Q1 2018</td>\n",
       "      <td>90040.48</td>\n",
       "      <td>149.0</td>\n",
       "      <td>NaN</td>\n",
       "    </tr>\n",
       "    <tr>\n",
       "      <th>3</th>\n",
       "      <td>SaleID_4</td>\n",
       "      <td>United States</td>\n",
       "      <td>Fax</td>\n",
       "      <td>Outdoors Shop</td>\n",
       "      <td>NaN</td>\n",
       "      <td>Tents</td>\n",
       "      <td>Star Gazer 2</td>\n",
       "      <td>2018.0</td>\n",
       "      <td>Q1 2018</td>\n",
       "      <td>NaN</td>\n",
       "      <td>305.0</td>\n",
       "      <td>0.292938</td>\n",
       "    </tr>\n",
       "    <tr>\n",
       "      <th>4</th>\n",
       "      <td>SaleID_5</td>\n",
       "      <td>United States</td>\n",
       "      <td>NaN</td>\n",
       "      <td>Outdoors Shop</td>\n",
       "      <td>Personal Accessories</td>\n",
       "      <td>First Aid</td>\n",
       "      <td>Compact Relief Kit</td>\n",
       "      <td>2018.0</td>\n",
       "      <td>Q1 2018</td>\n",
       "      <td>NaN</td>\n",
       "      <td>182.0</td>\n",
       "      <td>0.610710</td>\n",
       "    </tr>\n",
       "    <tr>\n",
       "      <th>...</th>\n",
       "      <td>...</td>\n",
       "      <td>...</td>\n",
       "      <td>...</td>\n",
       "      <td>...</td>\n",
       "      <td>...</td>\n",
       "      <td>...</td>\n",
       "      <td>...</td>\n",
       "      <td>...</td>\n",
       "      <td>...</td>\n",
       "      <td>...</td>\n",
       "      <td>...</td>\n",
       "      <td>...</td>\n",
       "    </tr>\n",
       "    <tr>\n",
       "      <th>1271</th>\n",
       "      <td>SaleID_1272</td>\n",
       "      <td>Spain</td>\n",
       "      <td>Sales visit</td>\n",
       "      <td>Outdoors Shop</td>\n",
       "      <td>Personal Accessories</td>\n",
       "      <td>Rope</td>\n",
       "      <td>Husky Rope 60</td>\n",
       "      <td>2020.0</td>\n",
       "      <td>Q3 2020</td>\n",
       "      <td>30916.50</td>\n",
       "      <td>173.0</td>\n",
       "      <td>0.298114</td>\n",
       "    </tr>\n",
       "    <tr>\n",
       "      <th>1272</th>\n",
       "      <td>SaleID_1273</td>\n",
       "      <td>Spain</td>\n",
       "      <td>Sales visit</td>\n",
       "      <td>Outdoors Shop</td>\n",
       "      <td>Outdoor Protection</td>\n",
       "      <td>Climbing Accessories</td>\n",
       "      <td>Firefly Climbing Lamp</td>\n",
       "      <td>2020.0</td>\n",
       "      <td>Q3 2020</td>\n",
       "      <td>7536.29</td>\n",
       "      <td>193.0</td>\n",
       "      <td>0.445287</td>\n",
       "    </tr>\n",
       "    <tr>\n",
       "      <th>1273</th>\n",
       "      <td>SaleID_1274</td>\n",
       "      <td>Spain</td>\n",
       "      <td>Sales visit</td>\n",
       "      <td>Outdoors Shop</td>\n",
       "      <td>Personal Accessories</td>\n",
       "      <td>Climbing Accessories</td>\n",
       "      <td>Firefly Charger</td>\n",
       "      <td>2020.0</td>\n",
       "      <td>Q3 2020</td>\n",
       "      <td>12306.48</td>\n",
       "      <td>238.0</td>\n",
       "      <td>0.568420</td>\n",
       "    </tr>\n",
       "    <tr>\n",
       "      <th>1274</th>\n",
       "      <td>SaleID_1275</td>\n",
       "      <td>Spain</td>\n",
       "      <td>Sales visit</td>\n",
       "      <td>Outdoors Shop</td>\n",
       "      <td>Personal Accessories</td>\n",
       "      <td>Tools</td>\n",
       "      <td>Granite Axe</td>\n",
       "      <td>2020.0</td>\n",
       "      <td>Q3 2020</td>\n",
       "      <td>56499.00</td>\n",
       "      <td>1472.0</td>\n",
       "      <td>0.490667</td>\n",
       "    </tr>\n",
       "    <tr>\n",
       "      <th>1275</th>\n",
       "      <td>SaleID_1276</td>\n",
       "      <td>Spain</td>\n",
       "      <td>Sales visit</td>\n",
       "      <td>Outdoors Shop</td>\n",
       "      <td>Camping Equipment</td>\n",
       "      <td>Tools</td>\n",
       "      <td>Granite Extreme</td>\n",
       "      <td>2020.0</td>\n",
       "      <td>Q3 2020</td>\n",
       "      <td>89427.00</td>\n",
       "      <td>1178.0</td>\n",
       "      <td>0.386895</td>\n",
       "    </tr>\n",
       "  </tbody>\n",
       "</table>\n",
       "<p>1276 rows × 12 columns</p>\n",
       "</div>"
      ],
      "text/plain": [
       "           SaleID RetailerCountry  OrderMethod   RetailerType  \\\n",
       "0        SaleID_1   United States          Fax  Outdoors Shop   \n",
       "1        SaleID_2   United States          Fax  Outdoors Shop   \n",
       "2        SaleID_3   United States          Fax  Outdoors Shop   \n",
       "3        SaleID_4   United States          Fax  Outdoors Shop   \n",
       "4        SaleID_5   United States          NaN  Outdoors Shop   \n",
       "...           ...             ...          ...            ...   \n",
       "1271  SaleID_1272           Spain  Sales visit  Outdoors Shop   \n",
       "1272  SaleID_1273           Spain  Sales visit  Outdoors Shop   \n",
       "1273  SaleID_1274           Spain  Sales visit  Outdoors Shop   \n",
       "1274  SaleID_1275           Spain  Sales visit  Outdoors Shop   \n",
       "1275  SaleID_1276           Spain  Sales visit  Outdoors Shop   \n",
       "\n",
       "               ProductLine           ProductType                    Product  \\\n",
       "0     Personal Accessories          Cooking Gear  TrailChef Deluxe Cook Set   \n",
       "1         Sports Equipment          Cooking Gear     TrailChef Double Flame   \n",
       "2                      NaN                 Tents                  Star Dome   \n",
       "3                      NaN                 Tents               Star Gazer 2   \n",
       "4     Personal Accessories             First Aid         Compact Relief Kit   \n",
       "...                    ...                   ...                        ...   \n",
       "1271  Personal Accessories                  Rope              Husky Rope 60   \n",
       "1272    Outdoor Protection  Climbing Accessories      Firefly Climbing Lamp   \n",
       "1273  Personal Accessories  Climbing Accessories            Firefly Charger   \n",
       "1274  Personal Accessories                 Tools                Granite Axe   \n",
       "1275     Camping Equipment                 Tools            Granite Extreme   \n",
       "\n",
       "        Year  Quarter   Revenue  Quantity  GrossMargin  \n",
       "0     2018.0  Q1 2018  59728.66     491.0     0.357548  \n",
       "1     2018.0  Q1 2018  36050.32     254.0     0.484274  \n",
       "2     2018.0  Q1 2018  90040.48     149.0          NaN  \n",
       "3     2018.0  Q1 2018       NaN     305.0     0.292938  \n",
       "4     2018.0  Q1 2018       NaN     182.0     0.610710  \n",
       "...      ...      ...       ...       ...          ...  \n",
       "1271  2020.0  Q3 2020  30916.50     173.0     0.298114  \n",
       "1272  2020.0  Q3 2020   7536.29     193.0     0.445287  \n",
       "1273  2020.0  Q3 2020  12306.48     238.0     0.568420  \n",
       "1274  2020.0  Q3 2020  56499.00    1472.0     0.490667  \n",
       "1275  2020.0  Q3 2020  89427.00    1178.0     0.386895  \n",
       "\n",
       "[1276 rows x 12 columns]"
      ]
     },
     "execution_count": 42,
     "metadata": {},
     "output_type": "execute_result"
    }
   ],
   "source": [
    "sales_2"
   ]
  },
  {
   "cell_type": "code",
   "execution_count": 43,
   "id": "b92ca6fe",
   "metadata": {},
   "outputs": [],
   "source": [
    "products = [\"A\",\"B\",\"C\",\"D\"]"
   ]
  },
  {
   "cell_type": "code",
   "execution_count": 44,
   "id": "2c82cbef",
   "metadata": {},
   "outputs": [
    {
     "data": {
      "text/plain": [
       "['A', 'B', 'C', 'D']"
      ]
     },
     "execution_count": 44,
     "metadata": {},
     "output_type": "execute_result"
    }
   ],
   "source": [
    "products"
   ]
  },
  {
   "cell_type": "code",
   "execution_count": 45,
   "id": "a0815668",
   "metadata": {},
   "outputs": [
    {
     "data": {
      "text/plain": [
       "list"
      ]
     },
     "execution_count": 45,
     "metadata": {},
     "output_type": "execute_result"
    }
   ],
   "source": [
    "type(products)"
   ]
  },
  {
   "cell_type": "code",
   "execution_count": 48,
   "id": "8ee639b8",
   "metadata": {},
   "outputs": [],
   "source": [
    "p_categories = pd.Series(products)"
   ]
  },
  {
   "cell_type": "code",
   "execution_count": 49,
   "id": "2d1d4ed5",
   "metadata": {},
   "outputs": [
    {
     "data": {
      "text/plain": [
       "0    A\n",
       "1    B\n",
       "2    C\n",
       "3    D\n",
       "dtype: object"
      ]
     },
     "execution_count": 49,
     "metadata": {},
     "output_type": "execute_result"
    }
   ],
   "source": [
    "p_categories"
   ]
  },
  {
   "cell_type": "code",
   "execution_count": 52,
   "id": "6513fc9d",
   "metadata": {},
   "outputs": [
    {
     "data": {
      "text/plain": [
       "0    23\n",
       "1    14\n",
       "2    54\n",
       "3    32\n",
       "dtype: int64"
      ]
     },
     "execution_count": 52,
     "metadata": {},
     "output_type": "execute_result"
    }
   ],
   "source": [
    "price = [23,14,54,32]\n",
    "price_c = pd.Series(price)\n",
    "price_c"
   ]
  },
  {
   "cell_type": "code",
   "execution_count": 64,
   "id": "99b6c42b",
   "metadata": {},
   "outputs": [
    {
     "data": {
      "text/html": [
       "<div>\n",
       "<style scoped>\n",
       "    .dataframe tbody tr th:only-of-type {\n",
       "        vertical-align: middle;\n",
       "    }\n",
       "\n",
       "    .dataframe tbody tr th {\n",
       "        vertical-align: top;\n",
       "    }\n",
       "\n",
       "    .dataframe thead th {\n",
       "        text-align: right;\n",
       "    }\n",
       "</style>\n",
       "<table border=\"1\" class=\"dataframe\">\n",
       "  <thead>\n",
       "    <tr style=\"text-align: right;\">\n",
       "      <th></th>\n",
       "      <th>Product_cat</th>\n",
       "      <th>price</th>\n",
       "    </tr>\n",
       "  </thead>\n",
       "  <tbody>\n",
       "    <tr>\n",
       "      <th>0</th>\n",
       "      <td>A</td>\n",
       "      <td>23</td>\n",
       "    </tr>\n",
       "    <tr>\n",
       "      <th>1</th>\n",
       "      <td>B</td>\n",
       "      <td>14</td>\n",
       "    </tr>\n",
       "    <tr>\n",
       "      <th>2</th>\n",
       "      <td>C</td>\n",
       "      <td>54</td>\n",
       "    </tr>\n",
       "    <tr>\n",
       "      <th>3</th>\n",
       "      <td>D</td>\n",
       "      <td>32</td>\n",
       "    </tr>\n",
       "  </tbody>\n",
       "</table>\n",
       "</div>"
      ],
      "text/plain": [
       "  Product_cat  price\n",
       "0           A     23\n",
       "1           B     14\n",
       "2           C     54\n",
       "3           D     32"
      ]
     },
     "execution_count": 64,
     "metadata": {},
     "output_type": "execute_result"
    }
   ],
   "source": [
    "df_1 = pd.DataFrame(data = price_c,columns=['price'])\n",
    "df_2 = pd.DataFrame(data = p_categories,columns=['Product_cat'])\n",
    "df = pd.merge(df_2, df_1, left_index=True, right_index=True)\n",
    "df"
   ]
  },
  {
   "cell_type": "code",
   "execution_count": 62,
   "id": "38f4e0df",
   "metadata": {},
   "outputs": [],
   "source": [
    "df.to_csv('E:/DA_Presentation/dataset/Python/Pandas/df.csv')"
   ]
  },
  {
   "cell_type": "code",
   "execution_count": null,
   "id": "1e21a82c",
   "metadata": {},
   "outputs": [],
   "source": []
  },
  {
   "cell_type": "code",
   "execution_count": 1,
   "id": "dd87b0d6",
   "metadata": {},
   "outputs": [],
   "source": [
    "import pandas as pd\n",
    "import numpy as np"
   ]
  },
  {
   "cell_type": "code",
   "execution_count": 2,
   "id": "4a8aea5d",
   "metadata": {},
   "outputs": [
    {
     "data": {
      "text/plain": [
       "array([10,  2, 34, 21])"
      ]
     },
     "execution_count": 2,
     "metadata": {},
     "output_type": "execute_result"
    }
   ],
   "source": [
    "array_a = np.array([10,2,34,21])\n",
    "array_a"
   ]
  },
  {
   "cell_type": "code",
   "execution_count": 3,
   "id": "d9ef63df",
   "metadata": {},
   "outputs": [
    {
     "data": {
      "text/plain": [
       "numpy.ndarray"
      ]
     },
     "execution_count": 3,
     "metadata": {},
     "output_type": "execute_result"
    }
   ],
   "source": [
    "type(array_a)"
   ]
  },
  {
   "cell_type": "code",
   "execution_count": 5,
   "id": "f999b9d2",
   "metadata": {},
   "outputs": [],
   "source": [
    "series_a = pd.Series(array_a)"
   ]
  },
  {
   "cell_type": "code",
   "execution_count": 6,
   "id": "b134635c",
   "metadata": {},
   "outputs": [
    {
     "data": {
      "text/plain": [
       "0    10\n",
       "1     2\n",
       "2    34\n",
       "3    21\n",
       "dtype: int32"
      ]
     },
     "execution_count": 6,
     "metadata": {},
     "output_type": "execute_result"
    }
   ],
   "source": [
    "series_a"
   ]
  },
  {
   "cell_type": "code",
   "execution_count": null,
   "id": "c865a4a4",
   "metadata": {},
   "outputs": [],
   "source": []
  },
  {
   "cell_type": "code",
   "execution_count": 7,
   "id": "175fbb61",
   "metadata": {},
   "outputs": [
    {
     "data": {
      "text/plain": [
       "pandas.core.series.Series"
      ]
     },
     "execution_count": 7,
     "metadata": {},
     "output_type": "execute_result"
    }
   ],
   "source": [
    "type(series_a)"
   ]
  },
  {
   "cell_type": "code",
   "execution_count": 10,
   "id": "b47eadf9",
   "metadata": {},
   "outputs": [
    {
     "data": {
      "text/plain": [
       "4"
      ]
     },
     "execution_count": 10,
     "metadata": {},
     "output_type": "execute_result"
    }
   ],
   "source": [
    "series_a.size"
   ]
  },
  {
   "cell_type": "code",
   "execution_count": 17,
   "id": "009fa5fd",
   "metadata": {},
   "outputs": [],
   "source": [
    "series_b = pd.Series(np.array([\"Ab\",\"Ac\",\"Ad\",\"Ae\",\"Af\"]))"
   ]
  },
  {
   "cell_type": "code",
   "execution_count": 18,
   "id": "3a074de3",
   "metadata": {},
   "outputs": [
    {
     "data": {
      "text/plain": [
       "0    Ab\n",
       "1    Ac\n",
       "2    Ad\n",
       "3    Ae\n",
       "4    Af\n",
       "dtype: object"
      ]
     },
     "execution_count": 18,
     "metadata": {},
     "output_type": "execute_result"
    }
   ],
   "source": [
    "series_b"
   ]
  },
  {
   "cell_type": "code",
   "execution_count": 14,
   "id": "b81ad4a0",
   "metadata": {},
   "outputs": [
    {
     "data": {
      "text/plain": [
       "dtype('O')"
      ]
     },
     "execution_count": 14,
     "metadata": {},
     "output_type": "execute_result"
    }
   ],
   "source": [
    "series_b.dtype"
   ]
  },
  {
   "cell_type": "code",
   "execution_count": 19,
   "id": "c47fe4c4",
   "metadata": {},
   "outputs": [
    {
     "data": {
      "text/plain": [
       "5"
      ]
     },
     "execution_count": 19,
     "metadata": {},
     "output_type": "execute_result"
    }
   ],
   "source": [
    "series_b.size"
   ]
  },
  {
   "cell_type": "code",
   "execution_count": 23,
   "id": "0e1b01b9",
   "metadata": {},
   "outputs": [
    {
     "data": {
      "text/plain": [
       "2    Ad\n",
       "3    Ae\n",
       "4    Af\n",
       "dtype: object"
      ]
     },
     "execution_count": 23,
     "metadata": {},
     "output_type": "execute_result"
    }
   ],
   "source": [
    "series_b[2:]"
   ]
  },
  {
   "cell_type": "code",
   "execution_count": 24,
   "id": "e383f553",
   "metadata": {},
   "outputs": [],
   "source": [
    "price_per_category = {\n",
    "    \"Product_A\":2355,\n",
    "    \"Product_B\":431,\n",
    "    \"Product_C\":675,\n",
    "    \"Product_D\":564\n",
    "}"
   ]
  },
  {
   "cell_type": "code",
   "execution_count": 25,
   "id": "8c7c7473",
   "metadata": {},
   "outputs": [],
   "source": [
    "price_pc_series = pd.Series(price_per_category)"
   ]
  },
  {
   "cell_type": "code",
   "execution_count": 26,
   "id": "e3b66ab1",
   "metadata": {},
   "outputs": [
    {
     "data": {
      "text/plain": [
       "dtype('int64')"
      ]
     },
     "execution_count": 26,
     "metadata": {},
     "output_type": "execute_result"
    }
   ],
   "source": [
    "price_pc_series.dtype"
   ]
  },
  {
   "cell_type": "code",
   "execution_count": 28,
   "id": "44ac1255",
   "metadata": {},
   "outputs": [
    {
     "data": {
      "text/plain": [
       "2355"
      ]
     },
     "execution_count": 28,
     "metadata": {},
     "output_type": "execute_result"
    }
   ],
   "source": [
    "price_pc_series['Product_A']"
   ]
  },
  {
   "cell_type": "code",
   "execution_count": null,
   "id": "e7d6a6b8",
   "metadata": {},
   "outputs": [],
   "source": []
  },
  {
   "cell_type": "code",
   "execution_count": 33,
   "id": "f322b3c3",
   "metadata": {},
   "outputs": [],
   "source": [
    "series_c = pd.Series([10,20,30,40,50],index = [2,3,4,5,6])"
   ]
  },
  {
   "cell_type": "code",
   "execution_count": 34,
   "id": "9ed31ce5",
   "metadata": {},
   "outputs": [
    {
     "data": {
      "text/plain": [
       "2    10\n",
       "3    20\n",
       "4    30\n",
       "5    40\n",
       "6    50\n",
       "dtype: int64"
      ]
     },
     "execution_count": 34,
     "metadata": {},
     "output_type": "execute_result"
    }
   ],
   "source": [
    "series_c"
   ]
  },
  {
   "cell_type": "code",
   "execution_count": 35,
   "id": "2aafdfbf",
   "metadata": {},
   "outputs": [],
   "source": [
    "data = {\n",
    "    \"product_name\":['Apple', 'Grap', 'Orange', 'Melon', 'Lemon'],\n",
    "    \"product_price\": [4543, 321, 782, 5564, 56]\n",
    "}"
   ]
  },
  {
   "cell_type": "code",
   "execution_count": 37,
   "id": "648a60ca",
   "metadata": {},
   "outputs": [
    {
     "data": {
      "text/plain": [
       "dict"
      ]
     },
     "execution_count": 37,
     "metadata": {},
     "output_type": "execute_result"
    }
   ],
   "source": [
    "type(data)"
   ]
  },
  {
   "cell_type": "code",
   "execution_count": 39,
   "id": "bf79fb9d",
   "metadata": {},
   "outputs": [],
   "source": [
    "df = pd.DataFrame(data)"
   ]
  },
  {
   "cell_type": "code",
   "execution_count": 40,
   "id": "7cb7b83f",
   "metadata": {},
   "outputs": [
    {
     "data": {
      "text/html": [
       "<div>\n",
       "<style scoped>\n",
       "    .dataframe tbody tr th:only-of-type {\n",
       "        vertical-align: middle;\n",
       "    }\n",
       "\n",
       "    .dataframe tbody tr th {\n",
       "        vertical-align: top;\n",
       "    }\n",
       "\n",
       "    .dataframe thead th {\n",
       "        text-align: right;\n",
       "    }\n",
       "</style>\n",
       "<table border=\"1\" class=\"dataframe\">\n",
       "  <thead>\n",
       "    <tr style=\"text-align: right;\">\n",
       "      <th></th>\n",
       "      <th>product_name</th>\n",
       "      <th>product_price</th>\n",
       "    </tr>\n",
       "  </thead>\n",
       "  <tbody>\n",
       "    <tr>\n",
       "      <th>0</th>\n",
       "      <td>Apple</td>\n",
       "      <td>4543</td>\n",
       "    </tr>\n",
       "    <tr>\n",
       "      <th>1</th>\n",
       "      <td>Grap</td>\n",
       "      <td>321</td>\n",
       "    </tr>\n",
       "    <tr>\n",
       "      <th>2</th>\n",
       "      <td>Orange</td>\n",
       "      <td>782</td>\n",
       "    </tr>\n",
       "    <tr>\n",
       "      <th>3</th>\n",
       "      <td>Melon</td>\n",
       "      <td>5564</td>\n",
       "    </tr>\n",
       "    <tr>\n",
       "      <th>4</th>\n",
       "      <td>Lemon</td>\n",
       "      <td>56</td>\n",
       "    </tr>\n",
       "  </tbody>\n",
       "</table>\n",
       "</div>"
      ],
      "text/plain": [
       "  product_name  product_price\n",
       "0        Apple           4543\n",
       "1         Grap            321\n",
       "2       Orange            782\n",
       "3        Melon           5564\n",
       "4        Lemon             56"
      ]
     },
     "execution_count": 40,
     "metadata": {},
     "output_type": "execute_result"
    }
   ],
   "source": [
    "df"
   ]
  },
  {
   "cell_type": "code",
   "execution_count": 41,
   "id": "5cbe14eb",
   "metadata": {},
   "outputs": [
    {
     "data": {
      "text/html": [
       "<div>\n",
       "<style scoped>\n",
       "    .dataframe tbody tr th:only-of-type {\n",
       "        vertical-align: middle;\n",
       "    }\n",
       "\n",
       "    .dataframe tbody tr th {\n",
       "        vertical-align: top;\n",
       "    }\n",
       "\n",
       "    .dataframe thead th {\n",
       "        text-align: right;\n",
       "    }\n",
       "</style>\n",
       "<table border=\"1\" class=\"dataframe\">\n",
       "  <thead>\n",
       "    <tr style=\"text-align: right;\">\n",
       "      <th></th>\n",
       "      <th>SaleID</th>\n",
       "      <th>RetailerCountry</th>\n",
       "      <th>OrderMethod</th>\n",
       "      <th>RetailerType</th>\n",
       "      <th>ProductLine</th>\n",
       "      <th>ProductType</th>\n",
       "      <th>Product</th>\n",
       "      <th>Year</th>\n",
       "      <th>Quarter</th>\n",
       "      <th>Revenue</th>\n",
       "      <th>Quantity</th>\n",
       "      <th>GrossMargin</th>\n",
       "    </tr>\n",
       "  </thead>\n",
       "  <tbody>\n",
       "    <tr>\n",
       "      <th>0</th>\n",
       "      <td>SaleID_1</td>\n",
       "      <td>United States</td>\n",
       "      <td>Fax</td>\n",
       "      <td>Outdoors Shop</td>\n",
       "      <td>Personal Accessories</td>\n",
       "      <td>Cooking Gear</td>\n",
       "      <td>TrailChef Deluxe Cook Set</td>\n",
       "      <td>2018.0</td>\n",
       "      <td>Q1 2018</td>\n",
       "      <td>59728.66</td>\n",
       "      <td>491.0</td>\n",
       "      <td>0.357548</td>\n",
       "    </tr>\n",
       "    <tr>\n",
       "      <th>1</th>\n",
       "      <td>SaleID_2</td>\n",
       "      <td>United States</td>\n",
       "      <td>Fax</td>\n",
       "      <td>Outdoors Shop</td>\n",
       "      <td>Sports Equipment</td>\n",
       "      <td>Cooking Gear</td>\n",
       "      <td>TrailChef Double Flame</td>\n",
       "      <td>2018.0</td>\n",
       "      <td>Q1 2018</td>\n",
       "      <td>36050.32</td>\n",
       "      <td>254.0</td>\n",
       "      <td>0.484274</td>\n",
       "    </tr>\n",
       "    <tr>\n",
       "      <th>2</th>\n",
       "      <td>SaleID_3</td>\n",
       "      <td>United States</td>\n",
       "      <td>Fax</td>\n",
       "      <td>Outdoors Shop</td>\n",
       "      <td>NaN</td>\n",
       "      <td>Tents</td>\n",
       "      <td>Star Dome</td>\n",
       "      <td>2018.0</td>\n",
       "      <td>Q1 2018</td>\n",
       "      <td>90040.48</td>\n",
       "      <td>149.0</td>\n",
       "      <td>NaN</td>\n",
       "    </tr>\n",
       "    <tr>\n",
       "      <th>3</th>\n",
       "      <td>SaleID_4</td>\n",
       "      <td>United States</td>\n",
       "      <td>Fax</td>\n",
       "      <td>Outdoors Shop</td>\n",
       "      <td>NaN</td>\n",
       "      <td>Tents</td>\n",
       "      <td>Star Gazer 2</td>\n",
       "      <td>2018.0</td>\n",
       "      <td>Q1 2018</td>\n",
       "      <td>NaN</td>\n",
       "      <td>305.0</td>\n",
       "      <td>0.292938</td>\n",
       "    </tr>\n",
       "    <tr>\n",
       "      <th>4</th>\n",
       "      <td>SaleID_5</td>\n",
       "      <td>United States</td>\n",
       "      <td>NaN</td>\n",
       "      <td>Outdoors Shop</td>\n",
       "      <td>Personal Accessories</td>\n",
       "      <td>First Aid</td>\n",
       "      <td>Compact Relief Kit</td>\n",
       "      <td>2018.0</td>\n",
       "      <td>Q1 2018</td>\n",
       "      <td>NaN</td>\n",
       "      <td>182.0</td>\n",
       "      <td>0.610710</td>\n",
       "    </tr>\n",
       "    <tr>\n",
       "      <th>...</th>\n",
       "      <td>...</td>\n",
       "      <td>...</td>\n",
       "      <td>...</td>\n",
       "      <td>...</td>\n",
       "      <td>...</td>\n",
       "      <td>...</td>\n",
       "      <td>...</td>\n",
       "      <td>...</td>\n",
       "      <td>...</td>\n",
       "      <td>...</td>\n",
       "      <td>...</td>\n",
       "      <td>...</td>\n",
       "    </tr>\n",
       "    <tr>\n",
       "      <th>1271</th>\n",
       "      <td>SaleID_1272</td>\n",
       "      <td>Spain</td>\n",
       "      <td>Sales visit</td>\n",
       "      <td>Outdoors Shop</td>\n",
       "      <td>Personal Accessories</td>\n",
       "      <td>Rope</td>\n",
       "      <td>Husky Rope 60</td>\n",
       "      <td>2020.0</td>\n",
       "      <td>Q3 2020</td>\n",
       "      <td>30916.50</td>\n",
       "      <td>173.0</td>\n",
       "      <td>0.298114</td>\n",
       "    </tr>\n",
       "    <tr>\n",
       "      <th>1272</th>\n",
       "      <td>SaleID_1273</td>\n",
       "      <td>Spain</td>\n",
       "      <td>Sales visit</td>\n",
       "      <td>Outdoors Shop</td>\n",
       "      <td>Outdoor Protection</td>\n",
       "      <td>Climbing Accessories</td>\n",
       "      <td>Firefly Climbing Lamp</td>\n",
       "      <td>2020.0</td>\n",
       "      <td>Q3 2020</td>\n",
       "      <td>7536.29</td>\n",
       "      <td>193.0</td>\n",
       "      <td>0.445287</td>\n",
       "    </tr>\n",
       "    <tr>\n",
       "      <th>1273</th>\n",
       "      <td>SaleID_1274</td>\n",
       "      <td>Spain</td>\n",
       "      <td>Sales visit</td>\n",
       "      <td>Outdoors Shop</td>\n",
       "      <td>Personal Accessories</td>\n",
       "      <td>Climbing Accessories</td>\n",
       "      <td>Firefly Charger</td>\n",
       "      <td>2020.0</td>\n",
       "      <td>Q3 2020</td>\n",
       "      <td>12306.48</td>\n",
       "      <td>238.0</td>\n",
       "      <td>0.568420</td>\n",
       "    </tr>\n",
       "    <tr>\n",
       "      <th>1274</th>\n",
       "      <td>SaleID_1275</td>\n",
       "      <td>Spain</td>\n",
       "      <td>Sales visit</td>\n",
       "      <td>Outdoors Shop</td>\n",
       "      <td>Personal Accessories</td>\n",
       "      <td>Tools</td>\n",
       "      <td>Granite Axe</td>\n",
       "      <td>2020.0</td>\n",
       "      <td>Q3 2020</td>\n",
       "      <td>56499.00</td>\n",
       "      <td>1472.0</td>\n",
       "      <td>0.490667</td>\n",
       "    </tr>\n",
       "    <tr>\n",
       "      <th>1275</th>\n",
       "      <td>SaleID_1276</td>\n",
       "      <td>Spain</td>\n",
       "      <td>Sales visit</td>\n",
       "      <td>Outdoors Shop</td>\n",
       "      <td>Camping Equipment</td>\n",
       "      <td>Tools</td>\n",
       "      <td>Granite Extreme</td>\n",
       "      <td>2020.0</td>\n",
       "      <td>Q3 2020</td>\n",
       "      <td>89427.00</td>\n",
       "      <td>1178.0</td>\n",
       "      <td>0.386895</td>\n",
       "    </tr>\n",
       "  </tbody>\n",
       "</table>\n",
       "<p>1276 rows × 12 columns</p>\n",
       "</div>"
      ],
      "text/plain": [
       "           SaleID RetailerCountry  OrderMethod   RetailerType  \\\n",
       "0        SaleID_1   United States          Fax  Outdoors Shop   \n",
       "1        SaleID_2   United States          Fax  Outdoors Shop   \n",
       "2        SaleID_3   United States          Fax  Outdoors Shop   \n",
       "3        SaleID_4   United States          Fax  Outdoors Shop   \n",
       "4        SaleID_5   United States          NaN  Outdoors Shop   \n",
       "...           ...             ...          ...            ...   \n",
       "1271  SaleID_1272           Spain  Sales visit  Outdoors Shop   \n",
       "1272  SaleID_1273           Spain  Sales visit  Outdoors Shop   \n",
       "1273  SaleID_1274           Spain  Sales visit  Outdoors Shop   \n",
       "1274  SaleID_1275           Spain  Sales visit  Outdoors Shop   \n",
       "1275  SaleID_1276           Spain  Sales visit  Outdoors Shop   \n",
       "\n",
       "               ProductLine           ProductType                    Product  \\\n",
       "0     Personal Accessories          Cooking Gear  TrailChef Deluxe Cook Set   \n",
       "1         Sports Equipment          Cooking Gear     TrailChef Double Flame   \n",
       "2                      NaN                 Tents                  Star Dome   \n",
       "3                      NaN                 Tents               Star Gazer 2   \n",
       "4     Personal Accessories             First Aid         Compact Relief Kit   \n",
       "...                    ...                   ...                        ...   \n",
       "1271  Personal Accessories                  Rope              Husky Rope 60   \n",
       "1272    Outdoor Protection  Climbing Accessories      Firefly Climbing Lamp   \n",
       "1273  Personal Accessories  Climbing Accessories            Firefly Charger   \n",
       "1274  Personal Accessories                 Tools                Granite Axe   \n",
       "1275     Camping Equipment                 Tools            Granite Extreme   \n",
       "\n",
       "        Year  Quarter   Revenue  Quantity  GrossMargin  \n",
       "0     2018.0  Q1 2018  59728.66     491.0     0.357548  \n",
       "1     2018.0  Q1 2018  36050.32     254.0     0.484274  \n",
       "2     2018.0  Q1 2018  90040.48     149.0          NaN  \n",
       "3     2018.0  Q1 2018       NaN     305.0     0.292938  \n",
       "4     2018.0  Q1 2018       NaN     182.0     0.610710  \n",
       "...      ...      ...       ...       ...          ...  \n",
       "1271  2020.0  Q3 2020  30916.50     173.0     0.298114  \n",
       "1272  2020.0  Q3 2020   7536.29     193.0     0.445287  \n",
       "1273  2020.0  Q3 2020  12306.48     238.0     0.568420  \n",
       "1274  2020.0  Q3 2020  56499.00    1472.0     0.490667  \n",
       "1275  2020.0  Q3 2020  89427.00    1178.0     0.386895  \n",
       "\n",
       "[1276 rows x 12 columns]"
      ]
     },
     "execution_count": 41,
     "metadata": {},
     "output_type": "execute_result"
    }
   ],
   "source": [
    "data2 = pd.read_csv(\"./Python/Pandas/Sales-products.csv\")\n",
    "data2"
   ]
  },
  {
   "cell_type": "code",
   "execution_count": null,
   "id": "3b6ab260",
   "metadata": {},
   "outputs": [],
   "source": []
  },
  {
   "cell_type": "code",
   "execution_count": 43,
   "id": "90b10fed",
   "metadata": {},
   "outputs": [
    {
     "data": {
      "text/plain": [
       "0               Fax\n",
       "1               Fax\n",
       "2               Fax\n",
       "3               Fax\n",
       "4               NaN\n",
       "           ...     \n",
       "1271    Sales visit\n",
       "1272    Sales visit\n",
       "1273    Sales visit\n",
       "1274    Sales visit\n",
       "1275    Sales visit\n",
       "Name: OrderMethod, Length: 1276, dtype: object"
      ]
     },
     "execution_count": 43,
     "metadata": {},
     "output_type": "execute_result"
    }
   ],
   "source": [
    "data2['OrderMethod']"
   ]
  },
  {
   "cell_type": "code",
   "execution_count": 45,
   "id": "7345a2e9",
   "metadata": {},
   "outputs": [
    {
     "data": {
      "text/html": [
       "<div>\n",
       "<style scoped>\n",
       "    .dataframe tbody tr th:only-of-type {\n",
       "        vertical-align: middle;\n",
       "    }\n",
       "\n",
       "    .dataframe tbody tr th {\n",
       "        vertical-align: top;\n",
       "    }\n",
       "\n",
       "    .dataframe thead th {\n",
       "        text-align: right;\n",
       "    }\n",
       "</style>\n",
       "<table border=\"1\" class=\"dataframe\">\n",
       "  <thead>\n",
       "    <tr style=\"text-align: right;\">\n",
       "      <th></th>\n",
       "      <th>SaleID</th>\n",
       "      <th>RetailerCountry</th>\n",
       "      <th>OrderMethod</th>\n",
       "      <th>RetailerType</th>\n",
       "      <th>ProductLine</th>\n",
       "      <th>ProductType</th>\n",
       "      <th>Product</th>\n",
       "      <th>Year</th>\n",
       "      <th>Quarter</th>\n",
       "      <th>Revenue</th>\n",
       "      <th>Quantity</th>\n",
       "      <th>GrossMargin</th>\n",
       "    </tr>\n",
       "  </thead>\n",
       "  <tbody>\n",
       "    <tr>\n",
       "      <th>0</th>\n",
       "      <td>SaleID_1</td>\n",
       "      <td>United States</td>\n",
       "      <td>Fax</td>\n",
       "      <td>Outdoors Shop</td>\n",
       "      <td>Personal Accessories</td>\n",
       "      <td>Cooking Gear</td>\n",
       "      <td>TrailChef Deluxe Cook Set</td>\n",
       "      <td>2018.0</td>\n",
       "      <td>Q1 2018</td>\n",
       "      <td>59728.66</td>\n",
       "      <td>491.0</td>\n",
       "      <td>0.357548</td>\n",
       "    </tr>\n",
       "    <tr>\n",
       "      <th>1</th>\n",
       "      <td>SaleID_2</td>\n",
       "      <td>United States</td>\n",
       "      <td>Fax</td>\n",
       "      <td>Outdoors Shop</td>\n",
       "      <td>Sports Equipment</td>\n",
       "      <td>Cooking Gear</td>\n",
       "      <td>TrailChef Double Flame</td>\n",
       "      <td>2018.0</td>\n",
       "      <td>Q1 2018</td>\n",
       "      <td>36050.32</td>\n",
       "      <td>254.0</td>\n",
       "      <td>0.484274</td>\n",
       "    </tr>\n",
       "    <tr>\n",
       "      <th>2</th>\n",
       "      <td>SaleID_3</td>\n",
       "      <td>United States</td>\n",
       "      <td>Fax</td>\n",
       "      <td>Outdoors Shop</td>\n",
       "      <td>NaN</td>\n",
       "      <td>Tents</td>\n",
       "      <td>Star Dome</td>\n",
       "      <td>2018.0</td>\n",
       "      <td>Q1 2018</td>\n",
       "      <td>90040.48</td>\n",
       "      <td>149.0</td>\n",
       "      <td>NaN</td>\n",
       "    </tr>\n",
       "    <tr>\n",
       "      <th>3</th>\n",
       "      <td>SaleID_4</td>\n",
       "      <td>United States</td>\n",
       "      <td>Fax</td>\n",
       "      <td>Outdoors Shop</td>\n",
       "      <td>NaN</td>\n",
       "      <td>Tents</td>\n",
       "      <td>Star Gazer 2</td>\n",
       "      <td>2018.0</td>\n",
       "      <td>Q1 2018</td>\n",
       "      <td>NaN</td>\n",
       "      <td>305.0</td>\n",
       "      <td>0.292938</td>\n",
       "    </tr>\n",
       "    <tr>\n",
       "      <th>4</th>\n",
       "      <td>SaleID_5</td>\n",
       "      <td>United States</td>\n",
       "      <td>NaN</td>\n",
       "      <td>Outdoors Shop</td>\n",
       "      <td>Personal Accessories</td>\n",
       "      <td>First Aid</td>\n",
       "      <td>Compact Relief Kit</td>\n",
       "      <td>2018.0</td>\n",
       "      <td>Q1 2018</td>\n",
       "      <td>NaN</td>\n",
       "      <td>182.0</td>\n",
       "      <td>0.610710</td>\n",
       "    </tr>\n",
       "    <tr>\n",
       "      <th>5</th>\n",
       "      <td>SaleID_6</td>\n",
       "      <td>United States</td>\n",
       "      <td>Fax</td>\n",
       "      <td>Outdoors Shop</td>\n",
       "      <td>Camping Equipment</td>\n",
       "      <td>First Aid</td>\n",
       "      <td>Aloe Relief</td>\n",
       "      <td>2018.0</td>\n",
       "      <td>Q1 2018</td>\n",
       "      <td>811.28</td>\n",
       "      <td>138.0</td>\n",
       "      <td>0.642887</td>\n",
       "    </tr>\n",
       "    <tr>\n",
       "      <th>6</th>\n",
       "      <td>SaleID_7</td>\n",
       "      <td>United States</td>\n",
       "      <td>Phone</td>\n",
       "      <td>Mall</td>\n",
       "      <td>Camping Equipment</td>\n",
       "      <td>Watches</td>\n",
       "      <td>Infinity</td>\n",
       "      <td>2018.0</td>\n",
       "      <td>Q1 2018</td>\n",
       "      <td>11100.00</td>\n",
       "      <td>52.0</td>\n",
       "      <td>0.484727</td>\n",
       "    </tr>\n",
       "    <tr>\n",
       "      <th>7</th>\n",
       "      <td>SaleID_8</td>\n",
       "      <td>United States</td>\n",
       "      <td>Phone</td>\n",
       "      <td>Mall</td>\n",
       "      <td>Camping Equipment</td>\n",
       "      <td>Watches</td>\n",
       "      <td>TX</td>\n",
       "      <td>2018.0</td>\n",
       "      <td>Q1 2018</td>\n",
       "      <td>14104.00</td>\n",
       "      <td>74.0</td>\n",
       "      <td>0.470985</td>\n",
       "    </tr>\n",
       "    <tr>\n",
       "      <th>8</th>\n",
       "      <td>SaleID_9</td>\n",
       "      <td>United States</td>\n",
       "      <td>Phone</td>\n",
       "      <td>Mall</td>\n",
       "      <td>Camping Equipment</td>\n",
       "      <td>Watches</td>\n",
       "      <td>Legend</td>\n",
       "      <td>2018.0</td>\n",
       "      <td>Q1 2018</td>\n",
       "      <td>14027.00</td>\n",
       "      <td>60.0</td>\n",
       "      <td>0.454017</td>\n",
       "    </tr>\n",
       "    <tr>\n",
       "      <th>9</th>\n",
       "      <td>SaleID_10</td>\n",
       "      <td>United States</td>\n",
       "      <td>Mail</td>\n",
       "      <td>Department Store</td>\n",
       "      <td>Personal Accessories</td>\n",
       "      <td>Sunscreen</td>\n",
       "      <td>Sun Shield</td>\n",
       "      <td>2018.0</td>\n",
       "      <td>Q1 2018</td>\n",
       "      <td>7456.48</td>\n",
       "      <td>1266.0</td>\n",
       "      <td>0.535773</td>\n",
       "    </tr>\n",
       "  </tbody>\n",
       "</table>\n",
       "</div>"
      ],
      "text/plain": [
       "      SaleID RetailerCountry OrderMethod      RetailerType  \\\n",
       "0   SaleID_1   United States         Fax     Outdoors Shop   \n",
       "1   SaleID_2   United States         Fax     Outdoors Shop   \n",
       "2   SaleID_3   United States         Fax     Outdoors Shop   \n",
       "3   SaleID_4   United States         Fax     Outdoors Shop   \n",
       "4   SaleID_5   United States         NaN     Outdoors Shop   \n",
       "5   SaleID_6   United States         Fax     Outdoors Shop   \n",
       "6   SaleID_7   United States       Phone              Mall   \n",
       "7   SaleID_8   United States       Phone              Mall   \n",
       "8   SaleID_9   United States       Phone              Mall   \n",
       "9  SaleID_10   United States        Mail  Department Store   \n",
       "\n",
       "            ProductLine   ProductType                    Product    Year  \\\n",
       "0  Personal Accessories  Cooking Gear  TrailChef Deluxe Cook Set  2018.0   \n",
       "1      Sports Equipment  Cooking Gear     TrailChef Double Flame  2018.0   \n",
       "2                   NaN         Tents                  Star Dome  2018.0   \n",
       "3                   NaN         Tents               Star Gazer 2  2018.0   \n",
       "4  Personal Accessories     First Aid         Compact Relief Kit  2018.0   \n",
       "5     Camping Equipment     First Aid                Aloe Relief  2018.0   \n",
       "6     Camping Equipment       Watches                   Infinity  2018.0   \n",
       "7     Camping Equipment       Watches                         TX  2018.0   \n",
       "8     Camping Equipment       Watches                     Legend  2018.0   \n",
       "9  Personal Accessories     Sunscreen                 Sun Shield  2018.0   \n",
       "\n",
       "   Quarter   Revenue  Quantity  GrossMargin  \n",
       "0  Q1 2018  59728.66     491.0     0.357548  \n",
       "1  Q1 2018  36050.32     254.0     0.484274  \n",
       "2  Q1 2018  90040.48     149.0          NaN  \n",
       "3  Q1 2018       NaN     305.0     0.292938  \n",
       "4  Q1 2018       NaN     182.0     0.610710  \n",
       "5  Q1 2018    811.28     138.0     0.642887  \n",
       "6  Q1 2018  11100.00      52.0     0.484727  \n",
       "7  Q1 2018  14104.00      74.0     0.470985  \n",
       "8  Q1 2018  14027.00      60.0     0.454017  \n",
       "9  Q1 2018   7456.48    1266.0     0.535773  "
      ]
     },
     "execution_count": 45,
     "metadata": {},
     "output_type": "execute_result"
    }
   ],
   "source": [
    "data2.head(10)"
   ]
  },
  {
   "cell_type": "code",
   "execution_count": 47,
   "id": "04c2dfad",
   "metadata": {},
   "outputs": [
    {
     "data": {
      "text/html": [
       "<div>\n",
       "<style scoped>\n",
       "    .dataframe tbody tr th:only-of-type {\n",
       "        vertical-align: middle;\n",
       "    }\n",
       "\n",
       "    .dataframe tbody tr th {\n",
       "        vertical-align: top;\n",
       "    }\n",
       "\n",
       "    .dataframe thead th {\n",
       "        text-align: right;\n",
       "    }\n",
       "</style>\n",
       "<table border=\"1\" class=\"dataframe\">\n",
       "  <thead>\n",
       "    <tr style=\"text-align: right;\">\n",
       "      <th></th>\n",
       "      <th>SaleID</th>\n",
       "      <th>RetailerCountry</th>\n",
       "      <th>OrderMethod</th>\n",
       "      <th>RetailerType</th>\n",
       "      <th>ProductLine</th>\n",
       "      <th>ProductType</th>\n",
       "      <th>Product</th>\n",
       "      <th>Year</th>\n",
       "      <th>Quarter</th>\n",
       "      <th>Revenue</th>\n",
       "      <th>Quantity</th>\n",
       "      <th>GrossMargin</th>\n",
       "    </tr>\n",
       "  </thead>\n",
       "  <tbody>\n",
       "    <tr>\n",
       "      <th>1266</th>\n",
       "      <td>SaleID_1267</td>\n",
       "      <td>Spain</td>\n",
       "      <td>Sales visit</td>\n",
       "      <td>Outdoors Shop</td>\n",
       "      <td>Camping Equipment</td>\n",
       "      <td>Lanterns</td>\n",
       "      <td>Firefly Mapreader</td>\n",
       "      <td>2020.0</td>\n",
       "      <td>Q3 2020</td>\n",
       "      <td>14814.00</td>\n",
       "      <td>927.0</td>\n",
       "      <td>0.529075</td>\n",
       "    </tr>\n",
       "    <tr>\n",
       "      <th>1267</th>\n",
       "      <td>SaleID_1268</td>\n",
       "      <td>Spain</td>\n",
       "      <td>Sales visit</td>\n",
       "      <td>Outdoors Shop</td>\n",
       "      <td>Camping Equipment</td>\n",
       "      <td>Lanterns</td>\n",
       "      <td>Firefly 4</td>\n",
       "      <td>2020.0</td>\n",
       "      <td>Q3 2020</td>\n",
       "      <td>11532.60</td>\n",
       "      <td>392.0</td>\n",
       "      <td>0.387587</td>\n",
       "    </tr>\n",
       "    <tr>\n",
       "      <th>1268</th>\n",
       "      <td>SaleID_1269</td>\n",
       "      <td>Spain</td>\n",
       "      <td>Sales visit</td>\n",
       "      <td>Outdoors Shop</td>\n",
       "      <td>Camping Equipment</td>\n",
       "      <td>Lanterns</td>\n",
       "      <td>Firefly Extreme</td>\n",
       "      <td>2020.0</td>\n",
       "      <td>Q3 2020</td>\n",
       "      <td>11095.56</td>\n",
       "      <td>206.0</td>\n",
       "      <td>0.439525</td>\n",
       "    </tr>\n",
       "    <tr>\n",
       "      <th>1269</th>\n",
       "      <td>SaleID_1270</td>\n",
       "      <td>Spain</td>\n",
       "      <td>Sales visit</td>\n",
       "      <td>Outdoors Shop</td>\n",
       "      <td>Mountaineering Equipment</td>\n",
       "      <td>Lanterns</td>\n",
       "      <td>EverGlow Single</td>\n",
       "      <td>2020.0</td>\n",
       "      <td>Q3 2020</td>\n",
       "      <td>25125.32</td>\n",
       "      <td>718.0</td>\n",
       "      <td>0.463877</td>\n",
       "    </tr>\n",
       "    <tr>\n",
       "      <th>1270</th>\n",
       "      <td>SaleID_1271</td>\n",
       "      <td>Spain</td>\n",
       "      <td>Sales visit</td>\n",
       "      <td>Outdoors Shop</td>\n",
       "      <td>Camping Equipment</td>\n",
       "      <td>Lanterns</td>\n",
       "      <td>EverGlow Butane</td>\n",
       "      <td>2020.0</td>\n",
       "      <td>Q3 2020</td>\n",
       "      <td>10988.80</td>\n",
       "      <td>172.0</td>\n",
       "      <td>0.367511</td>\n",
       "    </tr>\n",
       "    <tr>\n",
       "      <th>1271</th>\n",
       "      <td>SaleID_1272</td>\n",
       "      <td>Spain</td>\n",
       "      <td>Sales visit</td>\n",
       "      <td>Outdoors Shop</td>\n",
       "      <td>Personal Accessories</td>\n",
       "      <td>Rope</td>\n",
       "      <td>Husky Rope 60</td>\n",
       "      <td>2020.0</td>\n",
       "      <td>Q3 2020</td>\n",
       "      <td>30916.50</td>\n",
       "      <td>173.0</td>\n",
       "      <td>0.298114</td>\n",
       "    </tr>\n",
       "    <tr>\n",
       "      <th>1272</th>\n",
       "      <td>SaleID_1273</td>\n",
       "      <td>Spain</td>\n",
       "      <td>Sales visit</td>\n",
       "      <td>Outdoors Shop</td>\n",
       "      <td>Outdoor Protection</td>\n",
       "      <td>Climbing Accessories</td>\n",
       "      <td>Firefly Climbing Lamp</td>\n",
       "      <td>2020.0</td>\n",
       "      <td>Q3 2020</td>\n",
       "      <td>7536.29</td>\n",
       "      <td>193.0</td>\n",
       "      <td>0.445287</td>\n",
       "    </tr>\n",
       "    <tr>\n",
       "      <th>1273</th>\n",
       "      <td>SaleID_1274</td>\n",
       "      <td>Spain</td>\n",
       "      <td>Sales visit</td>\n",
       "      <td>Outdoors Shop</td>\n",
       "      <td>Personal Accessories</td>\n",
       "      <td>Climbing Accessories</td>\n",
       "      <td>Firefly Charger</td>\n",
       "      <td>2020.0</td>\n",
       "      <td>Q3 2020</td>\n",
       "      <td>12306.48</td>\n",
       "      <td>238.0</td>\n",
       "      <td>0.568420</td>\n",
       "    </tr>\n",
       "    <tr>\n",
       "      <th>1274</th>\n",
       "      <td>SaleID_1275</td>\n",
       "      <td>Spain</td>\n",
       "      <td>Sales visit</td>\n",
       "      <td>Outdoors Shop</td>\n",
       "      <td>Personal Accessories</td>\n",
       "      <td>Tools</td>\n",
       "      <td>Granite Axe</td>\n",
       "      <td>2020.0</td>\n",
       "      <td>Q3 2020</td>\n",
       "      <td>56499.00</td>\n",
       "      <td>1472.0</td>\n",
       "      <td>0.490667</td>\n",
       "    </tr>\n",
       "    <tr>\n",
       "      <th>1275</th>\n",
       "      <td>SaleID_1276</td>\n",
       "      <td>Spain</td>\n",
       "      <td>Sales visit</td>\n",
       "      <td>Outdoors Shop</td>\n",
       "      <td>Camping Equipment</td>\n",
       "      <td>Tools</td>\n",
       "      <td>Granite Extreme</td>\n",
       "      <td>2020.0</td>\n",
       "      <td>Q3 2020</td>\n",
       "      <td>89427.00</td>\n",
       "      <td>1178.0</td>\n",
       "      <td>0.386895</td>\n",
       "    </tr>\n",
       "  </tbody>\n",
       "</table>\n",
       "</div>"
      ],
      "text/plain": [
       "           SaleID RetailerCountry  OrderMethod   RetailerType  \\\n",
       "1266  SaleID_1267           Spain  Sales visit  Outdoors Shop   \n",
       "1267  SaleID_1268           Spain  Sales visit  Outdoors Shop   \n",
       "1268  SaleID_1269           Spain  Sales visit  Outdoors Shop   \n",
       "1269  SaleID_1270           Spain  Sales visit  Outdoors Shop   \n",
       "1270  SaleID_1271           Spain  Sales visit  Outdoors Shop   \n",
       "1271  SaleID_1272           Spain  Sales visit  Outdoors Shop   \n",
       "1272  SaleID_1273           Spain  Sales visit  Outdoors Shop   \n",
       "1273  SaleID_1274           Spain  Sales visit  Outdoors Shop   \n",
       "1274  SaleID_1275           Spain  Sales visit  Outdoors Shop   \n",
       "1275  SaleID_1276           Spain  Sales visit  Outdoors Shop   \n",
       "\n",
       "                   ProductLine           ProductType                Product  \\\n",
       "1266         Camping Equipment              Lanterns      Firefly Mapreader   \n",
       "1267         Camping Equipment              Lanterns              Firefly 4   \n",
       "1268         Camping Equipment              Lanterns        Firefly Extreme   \n",
       "1269  Mountaineering Equipment              Lanterns        EverGlow Single   \n",
       "1270         Camping Equipment              Lanterns        EverGlow Butane   \n",
       "1271      Personal Accessories                  Rope          Husky Rope 60   \n",
       "1272        Outdoor Protection  Climbing Accessories  Firefly Climbing Lamp   \n",
       "1273      Personal Accessories  Climbing Accessories        Firefly Charger   \n",
       "1274      Personal Accessories                 Tools            Granite Axe   \n",
       "1275         Camping Equipment                 Tools        Granite Extreme   \n",
       "\n",
       "        Year  Quarter   Revenue  Quantity  GrossMargin  \n",
       "1266  2020.0  Q3 2020  14814.00     927.0     0.529075  \n",
       "1267  2020.0  Q3 2020  11532.60     392.0     0.387587  \n",
       "1268  2020.0  Q3 2020  11095.56     206.0     0.439525  \n",
       "1269  2020.0  Q3 2020  25125.32     718.0     0.463877  \n",
       "1270  2020.0  Q3 2020  10988.80     172.0     0.367511  \n",
       "1271  2020.0  Q3 2020  30916.50     173.0     0.298114  \n",
       "1272  2020.0  Q3 2020   7536.29     193.0     0.445287  \n",
       "1273  2020.0  Q3 2020  12306.48     238.0     0.568420  \n",
       "1274  2020.0  Q3 2020  56499.00    1472.0     0.490667  \n",
       "1275  2020.0  Q3 2020  89427.00    1178.0     0.386895  "
      ]
     },
     "execution_count": 47,
     "metadata": {},
     "output_type": "execute_result"
    }
   ],
   "source": [
    "data2.tail(10)"
   ]
  },
  {
   "cell_type": "code",
   "execution_count": 68,
   "id": "28094a0a",
   "metadata": {},
   "outputs": [
    {
     "data": {
      "text/html": [
       "<div>\n",
       "<style scoped>\n",
       "    .dataframe tbody tr th:only-of-type {\n",
       "        vertical-align: middle;\n",
       "    }\n",
       "\n",
       "    .dataframe tbody tr th {\n",
       "        vertical-align: top;\n",
       "    }\n",
       "\n",
       "    .dataframe thead th {\n",
       "        text-align: right;\n",
       "    }\n",
       "</style>\n",
       "<table border=\"1\" class=\"dataframe\">\n",
       "  <thead>\n",
       "    <tr style=\"text-align: right;\">\n",
       "      <th></th>\n",
       "      <th>RetailerCountry</th>\n",
       "      <th>OrderMethod</th>\n",
       "    </tr>\n",
       "  </thead>\n",
       "  <tbody>\n",
       "    <tr>\n",
       "      <th>0</th>\n",
       "      <td>United States</td>\n",
       "      <td>Fax</td>\n",
       "    </tr>\n",
       "    <tr>\n",
       "      <th>1</th>\n",
       "      <td>United States</td>\n",
       "      <td>Fax</td>\n",
       "    </tr>\n",
       "    <tr>\n",
       "      <th>2</th>\n",
       "      <td>United States</td>\n",
       "      <td>Fax</td>\n",
       "    </tr>\n",
       "    <tr>\n",
       "      <th>3</th>\n",
       "      <td>United States</td>\n",
       "      <td>Fax</td>\n",
       "    </tr>\n",
       "    <tr>\n",
       "      <th>4</th>\n",
       "      <td>United States</td>\n",
       "      <td>NaN</td>\n",
       "    </tr>\n",
       "    <tr>\n",
       "      <th>...</th>\n",
       "      <td>...</td>\n",
       "      <td>...</td>\n",
       "    </tr>\n",
       "    <tr>\n",
       "      <th>1271</th>\n",
       "      <td>Spain</td>\n",
       "      <td>Sales visit</td>\n",
       "    </tr>\n",
       "    <tr>\n",
       "      <th>1272</th>\n",
       "      <td>Spain</td>\n",
       "      <td>Sales visit</td>\n",
       "    </tr>\n",
       "    <tr>\n",
       "      <th>1273</th>\n",
       "      <td>Spain</td>\n",
       "      <td>Sales visit</td>\n",
       "    </tr>\n",
       "    <tr>\n",
       "      <th>1274</th>\n",
       "      <td>Spain</td>\n",
       "      <td>Sales visit</td>\n",
       "    </tr>\n",
       "    <tr>\n",
       "      <th>1275</th>\n",
       "      <td>Spain</td>\n",
       "      <td>Sales visit</td>\n",
       "    </tr>\n",
       "  </tbody>\n",
       "</table>\n",
       "<p>1276 rows × 2 columns</p>\n",
       "</div>"
      ],
      "text/plain": [
       "     RetailerCountry  OrderMethod\n",
       "0      United States          Fax\n",
       "1      United States          Fax\n",
       "2      United States          Fax\n",
       "3      United States          Fax\n",
       "4      United States          NaN\n",
       "...              ...          ...\n",
       "1271           Spain  Sales visit\n",
       "1272           Spain  Sales visit\n",
       "1273           Spain  Sales visit\n",
       "1274           Spain  Sales visit\n",
       "1275           Spain  Sales visit\n",
       "\n",
       "[1276 rows x 2 columns]"
      ]
     },
     "execution_count": 68,
     "metadata": {},
     "output_type": "execute_result"
    }
   ],
   "source": [
    "data2[[\"RetailerCountry\",\"OrderMethod\"]]"
   ]
  },
  {
   "cell_type": "code",
   "execution_count": 50,
   "id": "76a3e227",
   "metadata": {},
   "outputs": [
    {
     "data": {
      "text/html": [
       "<div>\n",
       "<style scoped>\n",
       "    .dataframe tbody tr th:only-of-type {\n",
       "        vertical-align: middle;\n",
       "    }\n",
       "\n",
       "    .dataframe tbody tr th {\n",
       "        vertical-align: top;\n",
       "    }\n",
       "\n",
       "    .dataframe thead th {\n",
       "        text-align: right;\n",
       "    }\n",
       "</style>\n",
       "<table border=\"1\" class=\"dataframe\">\n",
       "  <thead>\n",
       "    <tr style=\"text-align: right;\">\n",
       "      <th></th>\n",
       "      <th>Year</th>\n",
       "      <th>Revenue</th>\n",
       "      <th>Quantity</th>\n",
       "      <th>GrossMargin</th>\n",
       "    </tr>\n",
       "  </thead>\n",
       "  <tbody>\n",
       "    <tr>\n",
       "      <th>count</th>\n",
       "      <td>1275.000000</td>\n",
       "      <td>1260.000000</td>\n",
       "      <td>1273.000000</td>\n",
       "      <td>1250.000000</td>\n",
       "    </tr>\n",
       "    <tr>\n",
       "      <th>mean</th>\n",
       "      <td>2018.427451</td>\n",
       "      <td>31416.916794</td>\n",
       "      <td>600.657502</td>\n",
       "      <td>0.459638</td>\n",
       "    </tr>\n",
       "    <tr>\n",
       "      <th>std</th>\n",
       "      <td>0.717596</td>\n",
       "      <td>51124.450625</td>\n",
       "      <td>977.723516</td>\n",
       "      <td>0.112575</td>\n",
       "    </tr>\n",
       "    <tr>\n",
       "      <th>min</th>\n",
       "      <td>2018.000000</td>\n",
       "      <td>0.000000</td>\n",
       "      <td>1.000000</td>\n",
       "      <td>0.058709</td>\n",
       "    </tr>\n",
       "    <tr>\n",
       "      <th>25%</th>\n",
       "      <td>2018.000000</td>\n",
       "      <td>7452.782500</td>\n",
       "      <td>108.000000</td>\n",
       "      <td>0.375364</td>\n",
       "    </tr>\n",
       "    <tr>\n",
       "      <th>50%</th>\n",
       "      <td>2018.000000</td>\n",
       "      <td>15997.400000</td>\n",
       "      <td>267.000000</td>\n",
       "      <td>0.462960</td>\n",
       "    </tr>\n",
       "    <tr>\n",
       "      <th>75%</th>\n",
       "      <td>2019.000000</td>\n",
       "      <td>39661.317500</td>\n",
       "      <td>643.000000</td>\n",
       "      <td>0.526765</td>\n",
       "    </tr>\n",
       "    <tr>\n",
       "      <th>max</th>\n",
       "      <td>2020.000000</td>\n",
       "      <td>944436.750000</td>\n",
       "      <td>13758.000000</td>\n",
       "      <td>0.780476</td>\n",
       "    </tr>\n",
       "  </tbody>\n",
       "</table>\n",
       "</div>"
      ],
      "text/plain": [
       "              Year        Revenue      Quantity  GrossMargin\n",
       "count  1275.000000    1260.000000   1273.000000  1250.000000\n",
       "mean   2018.427451   31416.916794    600.657502     0.459638\n",
       "std       0.717596   51124.450625    977.723516     0.112575\n",
       "min    2018.000000       0.000000      1.000000     0.058709\n",
       "25%    2018.000000    7452.782500    108.000000     0.375364\n",
       "50%    2018.000000   15997.400000    267.000000     0.462960\n",
       "75%    2019.000000   39661.317500    643.000000     0.526765\n",
       "max    2020.000000  944436.750000  13758.000000     0.780476"
      ]
     },
     "execution_count": 50,
     "metadata": {},
     "output_type": "execute_result"
    }
   ],
   "source": [
    "data2.describe()"
   ]
  },
  {
   "cell_type": "code",
   "execution_count": 52,
   "id": "064aeccb",
   "metadata": {},
   "outputs": [
    {
     "data": {
      "text/plain": [
       "1276"
      ]
     },
     "execution_count": 52,
     "metadata": {},
     "output_type": "execute_result"
    }
   ],
   "source": [
    "len(data2)"
   ]
  },
  {
   "cell_type": "code",
   "execution_count": 53,
   "id": "53c570a8",
   "metadata": {},
   "outputs": [
    {
     "data": {
      "text/plain": [
       "0       United States\n",
       "1       United States\n",
       "2       United States\n",
       "3       United States\n",
       "4       United States\n",
       "            ...      \n",
       "1271            Spain\n",
       "1272            Spain\n",
       "1273            Spain\n",
       "1274            Spain\n",
       "1275            Spain\n",
       "Name: RetailerCountry, Length: 1276, dtype: object"
      ]
     },
     "execution_count": 53,
     "metadata": {},
     "output_type": "execute_result"
    }
   ],
   "source": [
    "data2['RetailerCountry']"
   ]
  },
  {
   "cell_type": "code",
   "execution_count": 55,
   "id": "0f8fa012",
   "metadata": {},
   "outputs": [
    {
     "data": {
      "text/plain": [
       "0       United States\n",
       "1       United States\n",
       "2       United States\n",
       "3       United States\n",
       "4       United States\n",
       "            ...      \n",
       "1271            Spain\n",
       "1272            Spain\n",
       "1273            Spain\n",
       "1274            Spain\n",
       "1275            Spain\n",
       "Name: RetailerCountry, Length: 1276, dtype: object"
      ]
     },
     "execution_count": 55,
     "metadata": {},
     "output_type": "execute_result"
    }
   ],
   "source": [
    "data2.RetailerCountry"
   ]
  },
  {
   "cell_type": "code",
   "execution_count": 56,
   "id": "a8a1d3e0",
   "metadata": {},
   "outputs": [],
   "source": [
    "d1 = np.array([\n",
    "    [234,65,234],\n",
    "    [456,12,56],\n",
    "   [4563,23,67]\n",
    "])"
   ]
  },
  {
   "cell_type": "code",
   "execution_count": 61,
   "id": "7d89255b",
   "metadata": {},
   "outputs": [
    {
     "data": {
      "text/html": [
       "<div>\n",
       "<style scoped>\n",
       "    .dataframe tbody tr th:only-of-type {\n",
       "        vertical-align: middle;\n",
       "    }\n",
       "\n",
       "    .dataframe tbody tr th {\n",
       "        vertical-align: top;\n",
       "    }\n",
       "\n",
       "    .dataframe thead th {\n",
       "        text-align: right;\n",
       "    }\n",
       "</style>\n",
       "<table border=\"1\" class=\"dataframe\">\n",
       "  <thead>\n",
       "    <tr style=\"text-align: right;\">\n",
       "      <th></th>\n",
       "      <th>p1</th>\n",
       "      <th>p2</th>\n",
       "      <th>p3</th>\n",
       "    </tr>\n",
       "  </thead>\n",
       "  <tbody>\n",
       "    <tr>\n",
       "      <th>row-1</th>\n",
       "      <td>234</td>\n",
       "      <td>65</td>\n",
       "      <td>234</td>\n",
       "    </tr>\n",
       "    <tr>\n",
       "      <th>row-2</th>\n",
       "      <td>456</td>\n",
       "      <td>12</td>\n",
       "      <td>56</td>\n",
       "    </tr>\n",
       "    <tr>\n",
       "      <th>row-3</th>\n",
       "      <td>4563</td>\n",
       "      <td>23</td>\n",
       "      <td>67</td>\n",
       "    </tr>\n",
       "  </tbody>\n",
       "</table>\n",
       "</div>"
      ],
      "text/plain": [
       "         p1  p2   p3\n",
       "row-1   234  65  234\n",
       "row-2   456  12   56\n",
       "row-3  4563  23   67"
      ]
     },
     "execution_count": 61,
     "metadata": {},
     "output_type": "execute_result"
    }
   ],
   "source": [
    "df = pd.DataFrame(d1,columns = [\"p1\",\"p2\",\"p3\"],index = ['row-1','row-2','row-3'])\n",
    "df"
   ]
  },
  {
   "cell_type": "code",
   "execution_count": 62,
   "id": "566c8e28",
   "metadata": {},
   "outputs": [
    {
     "data": {
      "text/plain": [
       "Index(['row-1', 'row-2', 'row-3'], dtype='object')"
      ]
     },
     "execution_count": 62,
     "metadata": {},
     "output_type": "execute_result"
    }
   ],
   "source": [
    "df.index"
   ]
  },
  {
   "cell_type": "code",
   "execution_count": 63,
   "id": "5fe51ece",
   "metadata": {},
   "outputs": [
    {
     "data": {
      "text/plain": [
       "Index(['p1', 'p2', 'p3'], dtype='object')"
      ]
     },
     "execution_count": 63,
     "metadata": {},
     "output_type": "execute_result"
    }
   ],
   "source": [
    "df.columns"
   ]
  },
  {
   "cell_type": "code",
   "execution_count": 64,
   "id": "3e49c733",
   "metadata": {},
   "outputs": [],
   "source": [
    "new_column = ['n1','n2','n3']"
   ]
  },
  {
   "cell_type": "code",
   "execution_count": 66,
   "id": "90042df0",
   "metadata": {},
   "outputs": [
    {
     "data": {
      "text/html": [
       "<div>\n",
       "<style scoped>\n",
       "    .dataframe tbody tr th:only-of-type {\n",
       "        vertical-align: middle;\n",
       "    }\n",
       "\n",
       "    .dataframe tbody tr th {\n",
       "        vertical-align: top;\n",
       "    }\n",
       "\n",
       "    .dataframe thead th {\n",
       "        text-align: right;\n",
       "    }\n",
       "</style>\n",
       "<table border=\"1\" class=\"dataframe\">\n",
       "  <thead>\n",
       "    <tr style=\"text-align: right;\">\n",
       "      <th></th>\n",
       "      <th>n1</th>\n",
       "      <th>n2</th>\n",
       "      <th>n3</th>\n",
       "    </tr>\n",
       "  </thead>\n",
       "  <tbody>\n",
       "    <tr>\n",
       "      <th>row-1</th>\n",
       "      <td>NaN</td>\n",
       "      <td>NaN</td>\n",
       "      <td>NaN</td>\n",
       "    </tr>\n",
       "    <tr>\n",
       "      <th>row-2</th>\n",
       "      <td>NaN</td>\n",
       "      <td>NaN</td>\n",
       "      <td>NaN</td>\n",
       "    </tr>\n",
       "    <tr>\n",
       "      <th>row-3</th>\n",
       "      <td>NaN</td>\n",
       "      <td>NaN</td>\n",
       "      <td>NaN</td>\n",
       "    </tr>\n",
       "  </tbody>\n",
       "</table>\n",
       "</div>"
      ],
      "text/plain": [
       "       n1  n2  n3\n",
       "row-1 NaN NaN NaN\n",
       "row-2 NaN NaN NaN\n",
       "row-3 NaN NaN NaN"
      ]
     },
     "execution_count": 66,
     "metadata": {},
     "output_type": "execute_result"
    }
   ],
   "source": [
    "df2 = pd.DataFrame(df,columns=new_column)\n",
    "df2"
   ]
  },
  {
   "cell_type": "code",
   "execution_count": 69,
   "id": "1ffc07a4",
   "metadata": {},
   "outputs": [
    {
     "data": {
      "text/html": [
       "<div>\n",
       "<style scoped>\n",
       "    .dataframe tbody tr th:only-of-type {\n",
       "        vertical-align: middle;\n",
       "    }\n",
       "\n",
       "    .dataframe tbody tr th {\n",
       "        vertical-align: top;\n",
       "    }\n",
       "\n",
       "    .dataframe thead th {\n",
       "        text-align: right;\n",
       "    }\n",
       "</style>\n",
       "<table border=\"1\" class=\"dataframe\">\n",
       "  <thead>\n",
       "    <tr style=\"text-align: right;\">\n",
       "      <th></th>\n",
       "      <th>SaleID</th>\n",
       "      <th>RetailerCountry</th>\n",
       "      <th>OrderMethod</th>\n",
       "      <th>RetailerType</th>\n",
       "      <th>ProductLine</th>\n",
       "      <th>ProductType</th>\n",
       "      <th>Product</th>\n",
       "      <th>Year</th>\n",
       "      <th>Quarter</th>\n",
       "      <th>Revenue</th>\n",
       "      <th>Quantity</th>\n",
       "      <th>GrossMargin</th>\n",
       "    </tr>\n",
       "  </thead>\n",
       "  <tbody>\n",
       "    <tr>\n",
       "      <th>0</th>\n",
       "      <td>SaleID_1</td>\n",
       "      <td>United States</td>\n",
       "      <td>Fax</td>\n",
       "      <td>Outdoors Shop</td>\n",
       "      <td>Personal Accessories</td>\n",
       "      <td>Cooking Gear</td>\n",
       "      <td>TrailChef Deluxe Cook Set</td>\n",
       "      <td>2018.0</td>\n",
       "      <td>Q1 2018</td>\n",
       "      <td>59728.66</td>\n",
       "      <td>491.0</td>\n",
       "      <td>0.357548</td>\n",
       "    </tr>\n",
       "    <tr>\n",
       "      <th>1</th>\n",
       "      <td>SaleID_2</td>\n",
       "      <td>United States</td>\n",
       "      <td>Fax</td>\n",
       "      <td>Outdoors Shop</td>\n",
       "      <td>Sports Equipment</td>\n",
       "      <td>Cooking Gear</td>\n",
       "      <td>TrailChef Double Flame</td>\n",
       "      <td>2018.0</td>\n",
       "      <td>Q1 2018</td>\n",
       "      <td>36050.32</td>\n",
       "      <td>254.0</td>\n",
       "      <td>0.484274</td>\n",
       "    </tr>\n",
       "    <tr>\n",
       "      <th>2</th>\n",
       "      <td>SaleID_3</td>\n",
       "      <td>United States</td>\n",
       "      <td>Fax</td>\n",
       "      <td>Outdoors Shop</td>\n",
       "      <td>NaN</td>\n",
       "      <td>Tents</td>\n",
       "      <td>Star Dome</td>\n",
       "      <td>2018.0</td>\n",
       "      <td>Q1 2018</td>\n",
       "      <td>90040.48</td>\n",
       "      <td>149.0</td>\n",
       "      <td>NaN</td>\n",
       "    </tr>\n",
       "    <tr>\n",
       "      <th>3</th>\n",
       "      <td>SaleID_4</td>\n",
       "      <td>United States</td>\n",
       "      <td>Fax</td>\n",
       "      <td>Outdoors Shop</td>\n",
       "      <td>NaN</td>\n",
       "      <td>Tents</td>\n",
       "      <td>Star Gazer 2</td>\n",
       "      <td>2018.0</td>\n",
       "      <td>Q1 2018</td>\n",
       "      <td>NaN</td>\n",
       "      <td>305.0</td>\n",
       "      <td>0.292938</td>\n",
       "    </tr>\n",
       "    <tr>\n",
       "      <th>4</th>\n",
       "      <td>SaleID_5</td>\n",
       "      <td>United States</td>\n",
       "      <td>NaN</td>\n",
       "      <td>Outdoors Shop</td>\n",
       "      <td>Personal Accessories</td>\n",
       "      <td>First Aid</td>\n",
       "      <td>Compact Relief Kit</td>\n",
       "      <td>2018.0</td>\n",
       "      <td>Q1 2018</td>\n",
       "      <td>NaN</td>\n",
       "      <td>182.0</td>\n",
       "      <td>0.610710</td>\n",
       "    </tr>\n",
       "    <tr>\n",
       "      <th>...</th>\n",
       "      <td>...</td>\n",
       "      <td>...</td>\n",
       "      <td>...</td>\n",
       "      <td>...</td>\n",
       "      <td>...</td>\n",
       "      <td>...</td>\n",
       "      <td>...</td>\n",
       "      <td>...</td>\n",
       "      <td>...</td>\n",
       "      <td>...</td>\n",
       "      <td>...</td>\n",
       "      <td>...</td>\n",
       "    </tr>\n",
       "    <tr>\n",
       "      <th>1271</th>\n",
       "      <td>SaleID_1272</td>\n",
       "      <td>Spain</td>\n",
       "      <td>Sales visit</td>\n",
       "      <td>Outdoors Shop</td>\n",
       "      <td>Personal Accessories</td>\n",
       "      <td>Rope</td>\n",
       "      <td>Husky Rope 60</td>\n",
       "      <td>2020.0</td>\n",
       "      <td>Q3 2020</td>\n",
       "      <td>30916.50</td>\n",
       "      <td>173.0</td>\n",
       "      <td>0.298114</td>\n",
       "    </tr>\n",
       "    <tr>\n",
       "      <th>1272</th>\n",
       "      <td>SaleID_1273</td>\n",
       "      <td>Spain</td>\n",
       "      <td>Sales visit</td>\n",
       "      <td>Outdoors Shop</td>\n",
       "      <td>Outdoor Protection</td>\n",
       "      <td>Climbing Accessories</td>\n",
       "      <td>Firefly Climbing Lamp</td>\n",
       "      <td>2020.0</td>\n",
       "      <td>Q3 2020</td>\n",
       "      <td>7536.29</td>\n",
       "      <td>193.0</td>\n",
       "      <td>0.445287</td>\n",
       "    </tr>\n",
       "    <tr>\n",
       "      <th>1273</th>\n",
       "      <td>SaleID_1274</td>\n",
       "      <td>Spain</td>\n",
       "      <td>Sales visit</td>\n",
       "      <td>Outdoors Shop</td>\n",
       "      <td>Personal Accessories</td>\n",
       "      <td>Climbing Accessories</td>\n",
       "      <td>Firefly Charger</td>\n",
       "      <td>2020.0</td>\n",
       "      <td>Q3 2020</td>\n",
       "      <td>12306.48</td>\n",
       "      <td>238.0</td>\n",
       "      <td>0.568420</td>\n",
       "    </tr>\n",
       "    <tr>\n",
       "      <th>1274</th>\n",
       "      <td>SaleID_1275</td>\n",
       "      <td>Spain</td>\n",
       "      <td>Sales visit</td>\n",
       "      <td>Outdoors Shop</td>\n",
       "      <td>Personal Accessories</td>\n",
       "      <td>Tools</td>\n",
       "      <td>Granite Axe</td>\n",
       "      <td>2020.0</td>\n",
       "      <td>Q3 2020</td>\n",
       "      <td>56499.00</td>\n",
       "      <td>1472.0</td>\n",
       "      <td>0.490667</td>\n",
       "    </tr>\n",
       "    <tr>\n",
       "      <th>1275</th>\n",
       "      <td>SaleID_1276</td>\n",
       "      <td>Spain</td>\n",
       "      <td>Sales visit</td>\n",
       "      <td>Outdoors Shop</td>\n",
       "      <td>Camping Equipment</td>\n",
       "      <td>Tools</td>\n",
       "      <td>Granite Extreme</td>\n",
       "      <td>2020.0</td>\n",
       "      <td>Q3 2020</td>\n",
       "      <td>89427.00</td>\n",
       "      <td>1178.0</td>\n",
       "      <td>0.386895</td>\n",
       "    </tr>\n",
       "  </tbody>\n",
       "</table>\n",
       "<p>1276 rows × 12 columns</p>\n",
       "</div>"
      ],
      "text/plain": [
       "           SaleID RetailerCountry  OrderMethod   RetailerType  \\\n",
       "0        SaleID_1   United States          Fax  Outdoors Shop   \n",
       "1        SaleID_2   United States          Fax  Outdoors Shop   \n",
       "2        SaleID_3   United States          Fax  Outdoors Shop   \n",
       "3        SaleID_4   United States          Fax  Outdoors Shop   \n",
       "4        SaleID_5   United States          NaN  Outdoors Shop   \n",
       "...           ...             ...          ...            ...   \n",
       "1271  SaleID_1272           Spain  Sales visit  Outdoors Shop   \n",
       "1272  SaleID_1273           Spain  Sales visit  Outdoors Shop   \n",
       "1273  SaleID_1274           Spain  Sales visit  Outdoors Shop   \n",
       "1274  SaleID_1275           Spain  Sales visit  Outdoors Shop   \n",
       "1275  SaleID_1276           Spain  Sales visit  Outdoors Shop   \n",
       "\n",
       "               ProductLine           ProductType                    Product  \\\n",
       "0     Personal Accessories          Cooking Gear  TrailChef Deluxe Cook Set   \n",
       "1         Sports Equipment          Cooking Gear     TrailChef Double Flame   \n",
       "2                      NaN                 Tents                  Star Dome   \n",
       "3                      NaN                 Tents               Star Gazer 2   \n",
       "4     Personal Accessories             First Aid         Compact Relief Kit   \n",
       "...                    ...                   ...                        ...   \n",
       "1271  Personal Accessories                  Rope              Husky Rope 60   \n",
       "1272    Outdoor Protection  Climbing Accessories      Firefly Climbing Lamp   \n",
       "1273  Personal Accessories  Climbing Accessories            Firefly Charger   \n",
       "1274  Personal Accessories                 Tools                Granite Axe   \n",
       "1275     Camping Equipment                 Tools            Granite Extreme   \n",
       "\n",
       "        Year  Quarter   Revenue  Quantity  GrossMargin  \n",
       "0     2018.0  Q1 2018  59728.66     491.0     0.357548  \n",
       "1     2018.0  Q1 2018  36050.32     254.0     0.484274  \n",
       "2     2018.0  Q1 2018  90040.48     149.0          NaN  \n",
       "3     2018.0  Q1 2018       NaN     305.0     0.292938  \n",
       "4     2018.0  Q1 2018       NaN     182.0     0.610710  \n",
       "...      ...      ...       ...       ...          ...  \n",
       "1271  2020.0  Q3 2020  30916.50     173.0     0.298114  \n",
       "1272  2020.0  Q3 2020   7536.29     193.0     0.445287  \n",
       "1273  2020.0  Q3 2020  12306.48     238.0     0.568420  \n",
       "1274  2020.0  Q3 2020  56499.00    1472.0     0.490667  \n",
       "1275  2020.0  Q3 2020  89427.00    1178.0     0.386895  \n",
       "\n",
       "[1276 rows x 12 columns]"
      ]
     },
     "execution_count": 69,
     "metadata": {},
     "output_type": "execute_result"
    }
   ],
   "source": [
    "data2"
   ]
  },
  {
   "cell_type": "code",
   "execution_count": 70,
   "id": "b78b587d",
   "metadata": {},
   "outputs": [],
   "source": [
    "import matplotlib.pyplot as plt\n",
    "import seaborn as sns"
   ]
  },
  {
   "cell_type": "code",
   "execution_count": 78,
   "id": "96ad6de8",
   "metadata": {},
   "outputs": [
    {
     "data": {
      "image/png": "[encoded data removed]",
      "text/plain": [
       "<Figure size 432x288 with 1 Axes>"
      ]
     },
     "metadata": {
      "needs_background": "light"
     },
     "output_type": "display_data"
    }
   ],
   "source": [
    "plt.barh(data2['RetailerCountry'], data2['Quantity'], color ='maroon',\n",
    "        height = .6)\n",
    "plt.xlabel(\"Courses offered\")\n",
    "plt.ylabel(\"No. of students enrolled\")\n",
    "plt.title(\"Students enrolled in different courses\")\n",
    "plt.show()"
   ]
  },
  {
   "cell_type": "code",
   "execution_count": 82,
   "id": "3ad997dc",
   "metadata": {},
   "outputs": [
    {
     "ename": "ValueError",
     "evalue": "cannot convert float NaN to integer",
     "output_type": "error",
     "traceback": [
      "\u001b[1;31m---------------------------------------------------------------------------\u001b[0m",
      "\u001b[1;31mValueError\u001b[0m                                Traceback (most recent call last)",
      "\u001b[1;32m~\\anaconda3\\lib\\site-packages\\IPython\\core\\formatters.py\u001b[0m in \u001b[0;36m__call__\u001b[1;34m(self, obj)\u001b[0m\n\u001b[0;32m    339\u001b[0m                 \u001b[1;32mpass\u001b[0m\u001b[1;33m\u001b[0m\u001b[1;33m\u001b[0m\u001b[0m\n\u001b[0;32m    340\u001b[0m             \u001b[1;32melse\u001b[0m\u001b[1;33m:\u001b[0m\u001b[1;33m\u001b[0m\u001b[1;33m\u001b[0m\u001b[0m\n\u001b[1;32m--> 341\u001b[1;33m                 \u001b[1;32mreturn\u001b[0m \u001b[0mprinter\u001b[0m\u001b[1;33m(\u001b[0m\u001b[0mobj\u001b[0m\u001b[1;33m)\u001b[0m\u001b[1;33m\u001b[0m\u001b[1;33m\u001b[0m\u001b[0m\n\u001b[0m\u001b[0;32m    342\u001b[0m             \u001b[1;31m# Finally look for special method names\u001b[0m\u001b[1;33m\u001b[0m\u001b[1;33m\u001b[0m\u001b[0m\n\u001b[0;32m    343\u001b[0m             \u001b[0mmethod\u001b[0m \u001b[1;33m=\u001b[0m \u001b[0mget_real_method\u001b[0m\u001b[1;33m(\u001b[0m\u001b[0mobj\u001b[0m\u001b[1;33m,\u001b[0m \u001b[0mself\u001b[0m\u001b[1;33m.\u001b[0m\u001b[0mprint_method\u001b[0m\u001b[1;33m)\u001b[0m\u001b[1;33m\u001b[0m\u001b[1;33m\u001b[0m\u001b[0m\n",
      "\u001b[1;32m~\\anaconda3\\lib\\site-packages\\IPython\\core\\pylabtools.py\u001b[0m in \u001b[0;36mprint_figure\u001b[1;34m(fig, fmt, bbox_inches, base64, **kwargs)\u001b[0m\n\u001b[0;32m    149\u001b[0m         \u001b[0mFigureCanvasBase\u001b[0m\u001b[1;33m(\u001b[0m\u001b[0mfig\u001b[0m\u001b[1;33m)\u001b[0m\u001b[1;33m\u001b[0m\u001b[1;33m\u001b[0m\u001b[0m\n\u001b[0;32m    150\u001b[0m \u001b[1;33m\u001b[0m\u001b[0m\n\u001b[1;32m--> 151\u001b[1;33m     \u001b[0mfig\u001b[0m\u001b[1;33m.\u001b[0m\u001b[0mcanvas\u001b[0m\u001b[1;33m.\u001b[0m\u001b[0mprint_figure\u001b[0m\u001b[1;33m(\u001b[0m\u001b[0mbytes_io\u001b[0m\u001b[1;33m,\u001b[0m \u001b[1;33m**\u001b[0m\u001b[0mkw\u001b[0m\u001b[1;33m)\u001b[0m\u001b[1;33m\u001b[0m\u001b[1;33m\u001b[0m\u001b[0m\n\u001b[0m\u001b[0;32m    152\u001b[0m     \u001b[0mdata\u001b[0m \u001b[1;33m=\u001b[0m \u001b[0mbytes_io\u001b[0m\u001b[1;33m.\u001b[0m\u001b[0mgetvalue\u001b[0m\u001b[1;33m(\u001b[0m\u001b[1;33m)\u001b[0m\u001b[1;33m\u001b[0m\u001b[1;33m\u001b[0m\u001b[0m\n\u001b[0;32m    153\u001b[0m     \u001b[1;32mif\u001b[0m \u001b[0mfmt\u001b[0m \u001b[1;33m==\u001b[0m \u001b[1;34m'svg'\u001b[0m\u001b[1;33m:\u001b[0m\u001b[1;33m\u001b[0m\u001b[1;33m\u001b[0m\u001b[0m\n",
      "\u001b[1;32m~\\anaconda3\\lib\\site-packages\\matplotlib\\backend_bases.py\u001b[0m in \u001b[0;36mprint_figure\u001b[1;34m(self, filename, dpi, facecolor, edgecolor, orientation, format, bbox_inches, pad_inches, bbox_extra_artists, backend, **kwargs)\u001b[0m\n\u001b[0;32m   2228\u001b[0m                        else suppress())\n\u001b[0;32m   2229\u001b[0m                 \u001b[1;32mwith\u001b[0m \u001b[0mctx\u001b[0m\u001b[1;33m:\u001b[0m\u001b[1;33m\u001b[0m\u001b[1;33m\u001b[0m\u001b[0m\n\u001b[1;32m-> 2230\u001b[1;33m                     \u001b[0mself\u001b[0m\u001b[1;33m.\u001b[0m\u001b[0mfigure\u001b[0m\u001b[1;33m.\u001b[0m\u001b[0mdraw\u001b[0m\u001b[1;33m(\u001b[0m\u001b[0mrenderer\u001b[0m\u001b[1;33m)\u001b[0m\u001b[1;33m\u001b[0m\u001b[1;33m\u001b[0m\u001b[0m\n\u001b[0m\u001b[0;32m   2231\u001b[0m \u001b[1;33m\u001b[0m\u001b[0m\n\u001b[0;32m   2232\u001b[0m             \u001b[1;32mif\u001b[0m \u001b[0mbbox_inches\u001b[0m\u001b[1;33m:\u001b[0m\u001b[1;33m\u001b[0m\u001b[1;33m\u001b[0m\u001b[0m\n",
      "\u001b[1;32m~\\anaconda3\\lib\\site-packages\\matplotlib\\artist.py\u001b[0m in \u001b[0;36mdraw_wrapper\u001b[1;34m(artist, renderer, *args, **kwargs)\u001b[0m\n\u001b[0;32m     72\u001b[0m     \u001b[1;33m@\u001b[0m\u001b[0mwraps\u001b[0m\u001b[1;33m(\u001b[0m\u001b[0mdraw\u001b[0m\u001b[1;33m)\u001b[0m\u001b[1;33m\u001b[0m\u001b[1;33m\u001b[0m\u001b[0m\n\u001b[0;32m     73\u001b[0m     \u001b[1;32mdef\u001b[0m \u001b[0mdraw_wrapper\u001b[0m\u001b[1;33m(\u001b[0m\u001b[0martist\u001b[0m\u001b[1;33m,\u001b[0m \u001b[0mrenderer\u001b[0m\u001b[1;33m,\u001b[0m \u001b[1;33m*\u001b[0m\u001b[0margs\u001b[0m\u001b[1;33m,\u001b[0m \u001b[1;33m**\u001b[0m\u001b[0mkwargs\u001b[0m\u001b[1;33m)\u001b[0m\u001b[1;33m:\u001b[0m\u001b[1;33m\u001b[0m\u001b[1;33m\u001b[0m\u001b[0m\n\u001b[1;32m---> 74\u001b[1;33m         \u001b[0mresult\u001b[0m \u001b[1;33m=\u001b[0m \u001b[0mdraw\u001b[0m\u001b[1;33m(\u001b[0m\u001b[0martist\u001b[0m\u001b[1;33m,\u001b[0m \u001b[0mrenderer\u001b[0m\u001b[1;33m,\u001b[0m \u001b[1;33m*\u001b[0m\u001b[0margs\u001b[0m\u001b[1;33m,\u001b[0m \u001b[1;33m**\u001b[0m\u001b[0mkwargs\u001b[0m\u001b[1;33m)\u001b[0m\u001b[1;33m\u001b[0m\u001b[1;33m\u001b[0m\u001b[0m\n\u001b[0m\u001b[0;32m     75\u001b[0m         \u001b[1;32mif\u001b[0m \u001b[0mrenderer\u001b[0m\u001b[1;33m.\u001b[0m\u001b[0m_rasterizing\u001b[0m\u001b[1;33m:\u001b[0m\u001b[1;33m\u001b[0m\u001b[1;33m\u001b[0m\u001b[0m\n\u001b[0;32m     76\u001b[0m             \u001b[0mrenderer\u001b[0m\u001b[1;33m.\u001b[0m\u001b[0mstop_rasterizing\u001b[0m\u001b[1;33m(\u001b[0m\u001b[1;33m)\u001b[0m\u001b[1;33m\u001b[0m\u001b[1;33m\u001b[0m\u001b[0m\n",
      "\u001b[1;32m~\\anaconda3\\lib\\site-packages\\matplotlib\\artist.py\u001b[0m in \u001b[0;36mdraw_wrapper\u001b[1;34m(artist, renderer, *args, **kwargs)\u001b[0m\n\u001b[0;32m     49\u001b[0m                 \u001b[0mrenderer\u001b[0m\u001b[1;33m.\u001b[0m\u001b[0mstart_filter\u001b[0m\u001b[1;33m(\u001b[0m\u001b[1;33m)\u001b[0m\u001b[1;33m\u001b[0m\u001b[1;33m\u001b[0m\u001b[0m\n\u001b[0;32m     50\u001b[0m \u001b[1;33m\u001b[0m\u001b[0m\n\u001b[1;32m---> 51\u001b[1;33m             \u001b[1;32mreturn\u001b[0m \u001b[0mdraw\u001b[0m\u001b[1;33m(\u001b[0m\u001b[0martist\u001b[0m\u001b[1;33m,\u001b[0m \u001b[0mrenderer\u001b[0m\u001b[1;33m,\u001b[0m \u001b[1;33m*\u001b[0m\u001b[0margs\u001b[0m\u001b[1;33m,\u001b[0m \u001b[1;33m**\u001b[0m\u001b[0mkwargs\u001b[0m\u001b[1;33m)\u001b[0m\u001b[1;33m\u001b[0m\u001b[1;33m\u001b[0m\u001b[0m\n\u001b[0m\u001b[0;32m     52\u001b[0m         \u001b[1;32mfinally\u001b[0m\u001b[1;33m:\u001b[0m\u001b[1;33m\u001b[0m\u001b[1;33m\u001b[0m\u001b[0m\n\u001b[0;32m     53\u001b[0m             \u001b[1;32mif\u001b[0m \u001b[0martist\u001b[0m\u001b[1;33m.\u001b[0m\u001b[0mget_agg_filter\u001b[0m\u001b[1;33m(\u001b[0m\u001b[1;33m)\u001b[0m \u001b[1;32mis\u001b[0m \u001b[1;32mnot\u001b[0m \u001b[1;32mNone\u001b[0m\u001b[1;33m:\u001b[0m\u001b[1;33m\u001b[0m\u001b[1;33m\u001b[0m\u001b[0m\n",
      "\u001b[1;32m~\\anaconda3\\lib\\site-packages\\matplotlib\\figure.py\u001b[0m in \u001b[0;36mdraw\u001b[1;34m(self, renderer)\u001b[0m\n\u001b[0;32m   2788\u001b[0m \u001b[1;33m\u001b[0m\u001b[0m\n\u001b[0;32m   2789\u001b[0m             \u001b[0mself\u001b[0m\u001b[1;33m.\u001b[0m\u001b[0mpatch\u001b[0m\u001b[1;33m.\u001b[0m\u001b[0mdraw\u001b[0m\u001b[1;33m(\u001b[0m\u001b[0mrenderer\u001b[0m\u001b[1;33m)\u001b[0m\u001b[1;33m\u001b[0m\u001b[1;33m\u001b[0m\u001b[0m\n\u001b[1;32m-> 2790\u001b[1;33m             mimage._draw_list_compositing_images(\n\u001b[0m\u001b[0;32m   2791\u001b[0m                 renderer, self, artists, self.suppressComposite)\n\u001b[0;32m   2792\u001b[0m \u001b[1;33m\u001b[0m\u001b[0m\n",
      "\u001b[1;32m~\\anaconda3\\lib\\site-packages\\matplotlib\\image.py\u001b[0m in \u001b[0;36m_draw_list_compositing_images\u001b[1;34m(renderer, parent, artists, suppress_composite)\u001b[0m\n\u001b[0;32m    130\u001b[0m     \u001b[1;32mif\u001b[0m \u001b[0mnot_composite\u001b[0m \u001b[1;32mor\u001b[0m \u001b[1;32mnot\u001b[0m \u001b[0mhas_images\u001b[0m\u001b[1;33m:\u001b[0m\u001b[1;33m\u001b[0m\u001b[1;33m\u001b[0m\u001b[0m\n\u001b[0;32m    131\u001b[0m         \u001b[1;32mfor\u001b[0m \u001b[0ma\u001b[0m \u001b[1;32min\u001b[0m \u001b[0martists\u001b[0m\u001b[1;33m:\u001b[0m\u001b[1;33m\u001b[0m\u001b[1;33m\u001b[0m\u001b[0m\n\u001b[1;32m--> 132\u001b[1;33m             \u001b[0ma\u001b[0m\u001b[1;33m.\u001b[0m\u001b[0mdraw\u001b[0m\u001b[1;33m(\u001b[0m\u001b[0mrenderer\u001b[0m\u001b[1;33m)\u001b[0m\u001b[1;33m\u001b[0m\u001b[1;33m\u001b[0m\u001b[0m\n\u001b[0m\u001b[0;32m    133\u001b[0m     \u001b[1;32melse\u001b[0m\u001b[1;33m:\u001b[0m\u001b[1;33m\u001b[0m\u001b[1;33m\u001b[0m\u001b[0m\n\u001b[0;32m    134\u001b[0m         \u001b[1;31m# Composite any adjacent images together\u001b[0m\u001b[1;33m\u001b[0m\u001b[1;33m\u001b[0m\u001b[0m\n",
      "\u001b[1;32m~\\anaconda3\\lib\\site-packages\\matplotlib\\artist.py\u001b[0m in \u001b[0;36mdraw_wrapper\u001b[1;34m(artist, renderer, *args, **kwargs)\u001b[0m\n\u001b[0;32m     49\u001b[0m                 \u001b[0mrenderer\u001b[0m\u001b[1;33m.\u001b[0m\u001b[0mstart_filter\u001b[0m\u001b[1;33m(\u001b[0m\u001b[1;33m)\u001b[0m\u001b[1;33m\u001b[0m\u001b[1;33m\u001b[0m\u001b[0m\n\u001b[0;32m     50\u001b[0m \u001b[1;33m\u001b[0m\u001b[0m\n\u001b[1;32m---> 51\u001b[1;33m             \u001b[1;32mreturn\u001b[0m \u001b[0mdraw\u001b[0m\u001b[1;33m(\u001b[0m\u001b[0martist\u001b[0m\u001b[1;33m,\u001b[0m \u001b[0mrenderer\u001b[0m\u001b[1;33m,\u001b[0m \u001b[1;33m*\u001b[0m\u001b[0margs\u001b[0m\u001b[1;33m,\u001b[0m \u001b[1;33m**\u001b[0m\u001b[0mkwargs\u001b[0m\u001b[1;33m)\u001b[0m\u001b[1;33m\u001b[0m\u001b[1;33m\u001b[0m\u001b[0m\n\u001b[0m\u001b[0;32m     52\u001b[0m         \u001b[1;32mfinally\u001b[0m\u001b[1;33m:\u001b[0m\u001b[1;33m\u001b[0m\u001b[1;33m\u001b[0m\u001b[0m\n\u001b[0;32m     53\u001b[0m             \u001b[1;32mif\u001b[0m \u001b[0martist\u001b[0m\u001b[1;33m.\u001b[0m\u001b[0mget_agg_filter\u001b[0m\u001b[1;33m(\u001b[0m\u001b[1;33m)\u001b[0m \u001b[1;32mis\u001b[0m \u001b[1;32mnot\u001b[0m \u001b[1;32mNone\u001b[0m\u001b[1;33m:\u001b[0m\u001b[1;33m\u001b[0m\u001b[1;33m\u001b[0m\u001b[0m\n",
      "\u001b[1;32m~\\anaconda3\\lib\\site-packages\\matplotlib\\_api\\deprecation.py\u001b[0m in \u001b[0;36mwrapper\u001b[1;34m(*inner_args, **inner_kwargs)\u001b[0m\n\u001b[0;32m    429\u001b[0m                          \u001b[1;32melse\u001b[0m \u001b[0mdeprecation_addendum\u001b[0m\u001b[1;33m,\u001b[0m\u001b[1;33m\u001b[0m\u001b[1;33m\u001b[0m\u001b[0m\n\u001b[0;32m    430\u001b[0m                 **kwargs)\n\u001b[1;32m--> 431\u001b[1;33m         \u001b[1;32mreturn\u001b[0m \u001b[0mfunc\u001b[0m\u001b[1;33m(\u001b[0m\u001b[1;33m*\u001b[0m\u001b[0minner_args\u001b[0m\u001b[1;33m,\u001b[0m \u001b[1;33m**\u001b[0m\u001b[0minner_kwargs\u001b[0m\u001b[1;33m)\u001b[0m\u001b[1;33m\u001b[0m\u001b[1;33m\u001b[0m\u001b[0m\n\u001b[0m\u001b[0;32m    432\u001b[0m \u001b[1;33m\u001b[0m\u001b[0m\n\u001b[0;32m    433\u001b[0m     \u001b[1;32mreturn\u001b[0m \u001b[0mwrapper\u001b[0m\u001b[1;33m\u001b[0m\u001b[1;33m\u001b[0m\u001b[0m\n",
      "\u001b[1;32m~\\anaconda3\\lib\\site-packages\\matplotlib\\axes\\_base.py\u001b[0m in \u001b[0;36mdraw\u001b[1;34m(self, renderer, inframe)\u001b[0m\n\u001b[0;32m   2879\u001b[0m                 \u001b[0martists\u001b[0m\u001b[1;33m.\u001b[0m\u001b[0mremove\u001b[0m\u001b[1;33m(\u001b[0m\u001b[0mspine\u001b[0m\u001b[1;33m)\u001b[0m\u001b[1;33m\u001b[0m\u001b[1;33m\u001b[0m\u001b[0m\n\u001b[0;32m   2880\u001b[0m \u001b[1;33m\u001b[0m\u001b[0m\n\u001b[1;32m-> 2881\u001b[1;33m         \u001b[0mself\u001b[0m\u001b[1;33m.\u001b[0m\u001b[0m_update_title_position\u001b[0m\u001b[1;33m(\u001b[0m\u001b[0mrenderer\u001b[0m\u001b[1;33m)\u001b[0m\u001b[1;33m\u001b[0m\u001b[1;33m\u001b[0m\u001b[0m\n\u001b[0m\u001b[0;32m   2882\u001b[0m \u001b[1;33m\u001b[0m\u001b[0m\n\u001b[0;32m   2883\u001b[0m         \u001b[1;32mif\u001b[0m \u001b[1;32mnot\u001b[0m \u001b[0mself\u001b[0m\u001b[1;33m.\u001b[0m\u001b[0maxison\u001b[0m \u001b[1;32mor\u001b[0m \u001b[0minframe\u001b[0m\u001b[1;33m:\u001b[0m\u001b[1;33m\u001b[0m\u001b[1;33m\u001b[0m\u001b[0m\n",
      "\u001b[1;32m~\\anaconda3\\lib\\site-packages\\matplotlib\\axes\\_base.py\u001b[0m in \u001b[0;36m_update_title_position\u001b[1;34m(self, renderer)\u001b[0m\n\u001b[0;32m   2810\u001b[0m                 if (ax.xaxis.get_ticks_position() in ['top', 'unknown']\n\u001b[0;32m   2811\u001b[0m                         or ax.xaxis.get_label_position() == 'top'):\n\u001b[1;32m-> 2812\u001b[1;33m                     \u001b[0mbb\u001b[0m \u001b[1;33m=\u001b[0m \u001b[0max\u001b[0m\u001b[1;33m.\u001b[0m\u001b[0mxaxis\u001b[0m\u001b[1;33m.\u001b[0m\u001b[0mget_tightbbox\u001b[0m\u001b[1;33m(\u001b[0m\u001b[0mrenderer\u001b[0m\u001b[1;33m)\u001b[0m\u001b[1;33m\u001b[0m\u001b[1;33m\u001b[0m\u001b[0m\n\u001b[0m\u001b[0;32m   2813\u001b[0m                 \u001b[1;32melse\u001b[0m\u001b[1;33m:\u001b[0m\u001b[1;33m\u001b[0m\u001b[1;33m\u001b[0m\u001b[0m\n\u001b[0;32m   2814\u001b[0m                     \u001b[0mbb\u001b[0m \u001b[1;33m=\u001b[0m \u001b[0max\u001b[0m\u001b[1;33m.\u001b[0m\u001b[0mget_window_extent\u001b[0m\u001b[1;33m(\u001b[0m\u001b[0mrenderer\u001b[0m\u001b[1;33m)\u001b[0m\u001b[1;33m\u001b[0m\u001b[1;33m\u001b[0m\u001b[0m\n",
      "\u001b[1;32m~\\anaconda3\\lib\\site-packages\\matplotlib\\axis.py\u001b[0m in \u001b[0;36mget_tightbbox\u001b[1;34m(self, renderer, for_layout_only)\u001b[0m\n\u001b[0;32m   1084\u001b[0m             \u001b[1;32mreturn\u001b[0m\u001b[1;33m\u001b[0m\u001b[1;33m\u001b[0m\u001b[0m\n\u001b[0;32m   1085\u001b[0m \u001b[1;33m\u001b[0m\u001b[0m\n\u001b[1;32m-> 1086\u001b[1;33m         \u001b[0mticks_to_draw\u001b[0m \u001b[1;33m=\u001b[0m \u001b[0mself\u001b[0m\u001b[1;33m.\u001b[0m\u001b[0m_update_ticks\u001b[0m\u001b[1;33m(\u001b[0m\u001b[1;33m)\u001b[0m\u001b[1;33m\u001b[0m\u001b[1;33m\u001b[0m\u001b[0m\n\u001b[0m\u001b[0;32m   1087\u001b[0m \u001b[1;33m\u001b[0m\u001b[0m\n\u001b[0;32m   1088\u001b[0m         \u001b[0mself\u001b[0m\u001b[1;33m.\u001b[0m\u001b[0m_update_label_position\u001b[0m\u001b[1;33m(\u001b[0m\u001b[0mrenderer\u001b[0m\u001b[1;33m)\u001b[0m\u001b[1;33m\u001b[0m\u001b[1;33m\u001b[0m\u001b[0m\n",
      "\u001b[1;32m~\\anaconda3\\lib\\site-packages\\matplotlib\\axis.py\u001b[0m in \u001b[0;36m_update_ticks\u001b[1;34m(self)\u001b[0m\n\u001b[0;32m   1027\u001b[0m         \"\"\"\n\u001b[0;32m   1028\u001b[0m         \u001b[0mmajor_locs\u001b[0m \u001b[1;33m=\u001b[0m \u001b[0mself\u001b[0m\u001b[1;33m.\u001b[0m\u001b[0mget_majorticklocs\u001b[0m\u001b[1;33m(\u001b[0m\u001b[1;33m)\u001b[0m\u001b[1;33m\u001b[0m\u001b[1;33m\u001b[0m\u001b[0m\n\u001b[1;32m-> 1029\u001b[1;33m         \u001b[0mmajor_labels\u001b[0m \u001b[1;33m=\u001b[0m \u001b[0mself\u001b[0m\u001b[1;33m.\u001b[0m\u001b[0mmajor\u001b[0m\u001b[1;33m.\u001b[0m\u001b[0mformatter\u001b[0m\u001b[1;33m.\u001b[0m\u001b[0mformat_ticks\u001b[0m\u001b[1;33m(\u001b[0m\u001b[0mmajor_locs\u001b[0m\u001b[1;33m)\u001b[0m\u001b[1;33m\u001b[0m\u001b[1;33m\u001b[0m\u001b[0m\n\u001b[0m\u001b[0;32m   1030\u001b[0m         \u001b[0mmajor_ticks\u001b[0m \u001b[1;33m=\u001b[0m \u001b[0mself\u001b[0m\u001b[1;33m.\u001b[0m\u001b[0mget_major_ticks\u001b[0m\u001b[1;33m(\u001b[0m\u001b[0mlen\u001b[0m\u001b[1;33m(\u001b[0m\u001b[0mmajor_locs\u001b[0m\u001b[1;33m)\u001b[0m\u001b[1;33m)\u001b[0m\u001b[1;33m\u001b[0m\u001b[1;33m\u001b[0m\u001b[0m\n\u001b[0;32m   1031\u001b[0m         \u001b[0mself\u001b[0m\u001b[1;33m.\u001b[0m\u001b[0mmajor\u001b[0m\u001b[1;33m.\u001b[0m\u001b[0mformatter\u001b[0m\u001b[1;33m.\u001b[0m\u001b[0mset_locs\u001b[0m\u001b[1;33m(\u001b[0m\u001b[0mmajor_locs\u001b[0m\u001b[1;33m)\u001b[0m\u001b[1;33m\u001b[0m\u001b[1;33m\u001b[0m\u001b[0m\n",
      "\u001b[1;32m~\\anaconda3\\lib\\site-packages\\matplotlib\\ticker.py\u001b[0m in \u001b[0;36mformat_ticks\u001b[1;34m(self, values)\u001b[0m\n\u001b[0;32m    260\u001b[0m     \u001b[1;32mdef\u001b[0m \u001b[0mformat_ticks\u001b[0m\u001b[1;33m(\u001b[0m\u001b[0mself\u001b[0m\u001b[1;33m,\u001b[0m \u001b[0mvalues\u001b[0m\u001b[1;33m)\u001b[0m\u001b[1;33m:\u001b[0m\u001b[1;33m\u001b[0m\u001b[1;33m\u001b[0m\u001b[0m\n\u001b[0;32m    261\u001b[0m         \u001b[1;34m\"\"\"Return the tick labels for all the ticks at once.\"\"\"\u001b[0m\u001b[1;33m\u001b[0m\u001b[1;33m\u001b[0m\u001b[0m\n\u001b[1;32m--> 262\u001b[1;33m         \u001b[0mself\u001b[0m\u001b[1;33m.\u001b[0m\u001b[0mset_locs\u001b[0m\u001b[1;33m(\u001b[0m\u001b[0mvalues\u001b[0m\u001b[1;33m)\u001b[0m\u001b[1;33m\u001b[0m\u001b[1;33m\u001b[0m\u001b[0m\n\u001b[0m\u001b[0;32m    263\u001b[0m         \u001b[1;32mreturn\u001b[0m \u001b[1;33m[\u001b[0m\u001b[0mself\u001b[0m\u001b[1;33m(\u001b[0m\u001b[0mvalue\u001b[0m\u001b[1;33m,\u001b[0m \u001b[0mi\u001b[0m\u001b[1;33m)\u001b[0m \u001b[1;32mfor\u001b[0m \u001b[0mi\u001b[0m\u001b[1;33m,\u001b[0m \u001b[0mvalue\u001b[0m \u001b[1;32min\u001b[0m \u001b[0menumerate\u001b[0m\u001b[1;33m(\u001b[0m\u001b[0mvalues\u001b[0m\u001b[1;33m)\u001b[0m\u001b[1;33m]\u001b[0m\u001b[1;33m\u001b[0m\u001b[1;33m\u001b[0m\u001b[0m\n\u001b[0;32m    264\u001b[0m \u001b[1;33m\u001b[0m\u001b[0m\n",
      "\u001b[1;32m~\\anaconda3\\lib\\site-packages\\matplotlib\\ticker.py\u001b[0m in \u001b[0;36mset_locs\u001b[1;34m(self, locs)\u001b[0m\n\u001b[0;32m    804\u001b[0m                 \u001b[0mself\u001b[0m\u001b[1;33m.\u001b[0m\u001b[0m_compute_offset\u001b[0m\u001b[1;33m(\u001b[0m\u001b[1;33m)\u001b[0m\u001b[1;33m\u001b[0m\u001b[1;33m\u001b[0m\u001b[0m\n\u001b[0;32m    805\u001b[0m             \u001b[0mself\u001b[0m\u001b[1;33m.\u001b[0m\u001b[0m_set_order_of_magnitude\u001b[0m\u001b[1;33m(\u001b[0m\u001b[1;33m)\u001b[0m\u001b[1;33m\u001b[0m\u001b[1;33m\u001b[0m\u001b[0m\n\u001b[1;32m--> 806\u001b[1;33m             \u001b[0mself\u001b[0m\u001b[1;33m.\u001b[0m\u001b[0m_set_format\u001b[0m\u001b[1;33m(\u001b[0m\u001b[1;33m)\u001b[0m\u001b[1;33m\u001b[0m\u001b[1;33m\u001b[0m\u001b[0m\n\u001b[0m\u001b[0;32m    807\u001b[0m \u001b[1;33m\u001b[0m\u001b[0m\n\u001b[0;32m    808\u001b[0m     \u001b[1;32mdef\u001b[0m \u001b[0m_compute_offset\u001b[0m\u001b[1;33m(\u001b[0m\u001b[0mself\u001b[0m\u001b[1;33m)\u001b[0m\u001b[1;33m:\u001b[0m\u001b[1;33m\u001b[0m\u001b[1;33m\u001b[0m\u001b[0m\n",
      "\u001b[1;32m~\\anaconda3\\lib\\site-packages\\matplotlib\\ticker.py\u001b[0m in \u001b[0;36m_set_format\u001b[1;34m(self)\u001b[0m\n\u001b[0;32m    900\u001b[0m             \u001b[1;31m# We needed the end points only for the loc_range calculation.\u001b[0m\u001b[1;33m\u001b[0m\u001b[1;33m\u001b[0m\u001b[0m\n\u001b[0;32m    901\u001b[0m             \u001b[0mlocs\u001b[0m \u001b[1;33m=\u001b[0m \u001b[0mlocs\u001b[0m\u001b[1;33m[\u001b[0m\u001b[1;33m:\u001b[0m\u001b[1;33m-\u001b[0m\u001b[1;36m2\u001b[0m\u001b[1;33m]\u001b[0m\u001b[1;33m\u001b[0m\u001b[1;33m\u001b[0m\u001b[0m\n\u001b[1;32m--> 902\u001b[1;33m         \u001b[0mloc_range_oom\u001b[0m \u001b[1;33m=\u001b[0m \u001b[0mint\u001b[0m\u001b[1;33m(\u001b[0m\u001b[0mmath\u001b[0m\u001b[1;33m.\u001b[0m\u001b[0mfloor\u001b[0m\u001b[1;33m(\u001b[0m\u001b[0mmath\u001b[0m\u001b[1;33m.\u001b[0m\u001b[0mlog10\u001b[0m\u001b[1;33m(\u001b[0m\u001b[0mloc_range\u001b[0m\u001b[1;33m)\u001b[0m\u001b[1;33m)\u001b[0m\u001b[1;33m)\u001b[0m\u001b[1;33m\u001b[0m\u001b[1;33m\u001b[0m\u001b[0m\n\u001b[0m\u001b[0;32m    903\u001b[0m         \u001b[1;31m# first estimate:\u001b[0m\u001b[1;33m\u001b[0m\u001b[1;33m\u001b[0m\u001b[0m\n\u001b[0;32m    904\u001b[0m         \u001b[0msigfigs\u001b[0m \u001b[1;33m=\u001b[0m \u001b[0mmax\u001b[0m\u001b[1;33m(\u001b[0m\u001b[1;36m0\u001b[0m\u001b[1;33m,\u001b[0m \u001b[1;36m3\u001b[0m \u001b[1;33m-\u001b[0m \u001b[0mloc_range_oom\u001b[0m\u001b[1;33m)\u001b[0m\u001b[1;33m\u001b[0m\u001b[1;33m\u001b[0m\u001b[0m\n",
      "\u001b[1;31mValueError\u001b[0m: cannot convert float NaN to integer"
     ]
    },
    {
     "data": {
      "text/plain": [
       "<Figure size 864x432 with 1 Axes>"
      ]
     },
     "metadata": {},
     "output_type": "display_data"
    }
   ],
   "source": [
    "colors = [\"#011638\", \"#7e2987\", \"ef2026\", \"FFC000\"]\n",
    "labels = [\"Revenue\"]\n",
    "sns.set_style(\"white\")\n",
    "plt.figure(figsize = (12, 6))\n",
    "plt.stackplot(data2[\"Year\"],\n",
    "              data2[\"Revenue\"],\n",
    "#               data2[\"Quantity\"],\n",
    "#               data2[\"GrossMargin\"],\n",
    "              colors = colors,\n",
    "              edgecolor = 'none')\n",
    "plt.xticks(data2[\"Year\"], rotation = 45)\n",
    "plt.legend(labels = labels, loc = \"upper left\")\n",
    "plt.ylabel(\"Number of Cars\", fontsize = 13)\n",
    "# plt.title(\"Popularity of Engine Fuel Types (1982 - 2016)\", fontsize = 14, weight = \"bold\")\n",
    "sns.despine()\n",
    "plt.show()"
   ]
  },
  {
   "cell_type": "code",
   "execution_count": 84,
   "id": "3a252d90",
   "metadata": {},
   "outputs": [],
   "source": [
    "import geopandas"
   ]
  },
  {
   "cell_type": "code",
   "execution_count": null,
   "id": "b38cb8c3",
   "metadata": {},
   "outputs": [],
   "source": []
  }
 ],
 "metadata": {
  "kernelspec": {
   "display_name": "Python 3 (ipykernel)",
   "language": "python",
   "name": "python3"
  },
  "language_info": {
   "codemirror_mode": {
    "name": "ipython",
    "version": 3
   },
   "file_extension": ".py",
   "mimetype": "text/x-python",
   "name": "python",
   "nbconvert_exporter": "python",
   "pygments_lexer": "ipython3",
   "version": "3.9.7"
  }
 },
 "nbformat": 4,
 "nbformat_minor": 5
}
